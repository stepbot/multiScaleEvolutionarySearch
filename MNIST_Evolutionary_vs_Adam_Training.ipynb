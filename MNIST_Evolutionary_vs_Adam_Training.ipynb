{
  "cells": [
    {
      "cell_type": "markdown",
      "metadata": {
        "id": "view-in-github",
        "colab_type": "text"
      },
      "source": [
        "<a href=\"https://colab.research.google.com/github/stepbot/multiScaleEvolutionarySearch/blob/master/MNIST_Evolutionary_vs_Adam_Training.ipynb\" target=\"_parent\"><img src=\"https://colab.research.google.com/assets/colab-badge.svg\" alt=\"Open In Colab\"/></a>"
      ]
    },
    {
      "cell_type": "code",
      "source": [
        "import torch\n",
        "import torch.nn as nn\n",
        "import torchvision\n",
        "import torchvision.transforms as transforms\n",
        "import os\n",
        "from tqdm import tqdm\n",
        "import matplotlib.pyplot as plt\n",
        "import itertools\n",
        "\n",
        "# --- 1. Hyperparameters and Configuration ---\n",
        "DEVICE = torch.device(\"cuda\" if torch.cuda.is_available() else \"cpu\")\n",
        "INPUT_SIZE = 28 * 28  # MNIST image dimensions\n",
        "NUM_CLASSES = 10\n",
        "BATCH_SIZE = 1024 # Increased for faster debugging iterations\n",
        "LEARNING_RATE_ADAM = 0.001\n",
        "EPOCHS = 5 # Number of epochs for both Adam and EA\n",
        "\n",
        "# Evolutionary Algorithm Parameters\n",
        "POPULATION_SIZE = 3000 # Using the size you found was more stable\n",
        "BATCHES_PER_GENERATION = 1\n",
        "MUTATION_RESET_PROB = 0.00001\n",
        "TOURNAMENT_SIZE = 20 # Number of individuals in each selection tournament\n",
        "ELITISM_RATE = 0.05 # Keep the top 5% of models unchanged in the next generation\n",
        "\n",
        "# --- 2. Model Architecture ---\n",
        "# A simple MLP suitable for MNIST\n",
        "class SimpleNet(nn.Module):\n",
        "    def __init__(self):\n",
        "        super(SimpleNet, self).__init__()\n",
        "        self.fc1 = nn.Linear(INPUT_SIZE, 256)\n",
        "        self.relu1 = nn.ReLU()\n",
        "        self.fc2 = nn.Linear(256, 128)\n",
        "        self.relu2 = nn.ReLU()\n",
        "        self.fc3 = nn.Linear(128, NUM_CLASSES)\n",
        "\n",
        "    def forward(self, x):\n",
        "        x = x.view(-1, INPUT_SIZE) # Flatten the image\n",
        "        out = self.fc1(x)\n",
        "        out = self.relu1(out)\n",
        "        out = self.fc2(out)\n",
        "        out = self.relu2(out)\n",
        "        out = self.fc3(out)\n",
        "        return out\n",
        "\n",
        "# --- 3. Evolutionary Operators ---\n",
        "def tournament_selection(population, fitness_scores):\n",
        "    \"\"\"Selects a parent using tournament selection.\"\"\"\n",
        "    # Get random indices for the tournament\n",
        "    tournament_indices = torch.randint(0, len(population), (TOURNAMENT_SIZE,))\n",
        "    tournament_fitnesses = fitness_scores[tournament_indices]\n",
        "\n",
        "    # Find the winner of the tournament (best fitness)\n",
        "    winner_local_idx = torch.argmax(tournament_fitnesses)\n",
        "    winner_global_idx = tournament_indices[winner_local_idx]\n",
        "\n",
        "    return population[winner_global_idx]\n",
        "\n",
        "def crossover(parent1, parent2):\n",
        "    \"\"\"Performs uniform crossover between two parent models.\"\"\"\n",
        "    child = SimpleNet().to(DEVICE)\n",
        "    child_dict = child.state_dict()\n",
        "    parent1_dict = parent1.state_dict()\n",
        "    parent2_dict = parent2.state_dict()\n",
        "\n",
        "    for key in parent1_dict.keys():\n",
        "        mask = torch.randint(0, 2, size=parent1_dict[key].shape, device=DEVICE).float()\n",
        "        child_dict[key] = (parent1_dict[key] * mask) + (parent2_dict[key] * (1 - mask))\n",
        "\n",
        "    child.load_state_dict(child_dict)\n",
        "    return child\n",
        "\n",
        "def mutate(model):\n",
        "    \"\"\"Performs reset mutation.\"\"\"\n",
        "    with torch.no_grad():\n",
        "        for param in model.parameters():\n",
        "            mask = torch.rand_like(param.data) < MUTATION_RESET_PROB\n",
        "            new_weights = torch.randn_like(param.data)\n",
        "            param.data[mask] = new_weights[mask]\n",
        "    return model\n",
        "\n",
        "# --- 4. Data Loading ---\n",
        "def get_data_loaders():\n",
        "    \"\"\"Prepares the MNIST train and test data loaders.\"\"\"\n",
        "    transform = transforms.Compose([transforms.ToTensor(), transforms.Normalize((0.5,), (0.5,))])\n",
        "    data_path = './data'\n",
        "    if not os.path.exists(data_path): os.makedirs(data_path)\n",
        "    train_dataset = torchvision.datasets.MNIST(root=data_path, train=True, transform=transform, download=True)\n",
        "    test_dataset = torchvision.datasets.MNIST(root=data_path, train=False, transform=transform, download=True)\n",
        "    train_loader = torch.utils.data.DataLoader(dataset=train_dataset, batch_size=BATCH_SIZE, shuffle=True)\n",
        "    test_loader = torch.utils.data.DataLoader(dataset=test_dataset, batch_size=BATCH_SIZE, shuffle=False)\n",
        "    return train_loader, test_loader\n",
        "\n",
        "# --- 5. Evaluation Function ---\n",
        "def evaluate_model(model, loader):\n",
        "    \"\"\"Calculates the accuracy of a model on a given data loader.\"\"\"\n",
        "    model.eval()\n",
        "    with torch.no_grad():\n",
        "        correct, total = 0, 0\n",
        "        for images, labels in loader:\n",
        "            images, labels = images.to(DEVICE), labels.to(DEVICE)\n",
        "            outputs = model(images)\n",
        "            _, predicted = torch.max(outputs.data, 1)\n",
        "            total += labels.size(0)\n",
        "            correct += (predicted == labels).sum().item()\n",
        "    return 100 * correct / total\n",
        "\n",
        "# --- 6. Plotting Function ---\n",
        "def plot_performance(adam_history, ea_history):\n",
        "    \"\"\"Plots the sample efficiency of Adam vs. EA.\"\"\"\n",
        "    plt.figure(figsize=(12, 7))\n",
        "\n",
        "    if adam_history:\n",
        "        adam_batches, adam_accs = zip(*adam_history)\n",
        "        plt.plot(adam_batches, adam_accs, label='Adam Optimizer', color='blue', marker='o', markersize=4, linestyle='--')\n",
        "\n",
        "    if ea_history:\n",
        "        ea_batches, ea_accs = zip(*ea_history)\n",
        "        plt.plot(ea_batches, ea_accs, label='Evolutionary Algorithm', color='green', marker='x', markersize=4)\n",
        "\n",
        "    plt.title('Sample Efficiency: Adam vs. Evolutionary Algorithm')\n",
        "    plt.xlabel('Number of Batches Processed')\n",
        "    plt.ylabel('Test Accuracy (%)')\n",
        "    plt.grid(True)\n",
        "    plt.legend()\n",
        "    plt.tight_layout()\n",
        "    plt.savefig('performance_comparison.png')\n",
        "    print(\"\\nPerformance plot saved to 'performance_comparison.png'\")\n",
        "    plt.show()\n",
        "\n",
        "# --- 7. Main Execution ---\n",
        "def main():\n",
        "    if not torch.cuda.is_available():\n",
        "        print(\"CUDA not available. This script is designed for GPU acceleration.\")\n",
        "        return\n",
        "\n",
        "    print(f\"Using device: {DEVICE}\")\n",
        "    train_loader, test_loader = get_data_loaders()\n",
        "    loss_fn = nn.CrossEntropyLoss()\n",
        "\n",
        "    total_batches_per_epoch = len(train_loader)\n",
        "    total_batches = total_batches_per_epoch * EPOCHS\n",
        "    NUM_GENERATIONS = total_batches // BATCHES_PER_GENERATION\n",
        "\n",
        "    print(f\"Both algorithms will run for approx {total_batches} batches.\")\n",
        "    print(f\"EA will run for {NUM_GENERATIONS} generations of {BATCHES_PER_GENERATION} batches each.\")\n",
        "\n",
        "    adam_history = []\n",
        "    ea_history = []\n",
        "\n",
        "    # --- Part A: Train a population with an Evolutionary Algorithm ---\n",
        "    print(\"\\n--- Training Population with Evolutionary Algorithm ---\")\n",
        "    population = [SimpleNet().to(DEVICE) for _ in range(POPULATION_SIZE)]\n",
        "    for model in population: model.eval()\n",
        "    streams = [torch.cuda.Stream() for _ in range(POPULATION_SIZE)]\n",
        "\n",
        "    batch_counter_ea = 0\n",
        "    train_iterator = iter(itertools.cycle(train_loader))\n",
        "\n",
        "    for generation in tqdm(range(NUM_GENERATIONS), desc=\"EA Generations\"):\n",
        "            cumulative_fitness_scores = torch.zeros(POPULATION_SIZE, device=DEVICE)\n",
        "\n",
        "            for batch_idx in range(BATCHES_PER_GENERATION):\n",
        "                images, labels = next(train_iterator)\n",
        "                images, labels = images.to(DEVICE), labels.to(DEVICE)\n",
        "\n",
        "                with torch.no_grad():\n",
        "                    for i in range(POPULATION_SIZE):\n",
        "                        with torch.cuda.stream(streams[i]):\n",
        "                            outputs = population[i](images)\n",
        "                            loss = loss_fn(outputs, labels)\n",
        "                            cumulative_fitness_scores[i] += -loss\n",
        "\n",
        "            torch.cuda.synchronize()\n",
        "\n",
        "            batch_counter_ea += BATCHES_PER_GENERATION\n",
        "            fitness_scores = cumulative_fitness_scores\n",
        "\n",
        "            best_fitness = fitness_scores.max().item() / BATCHES_PER_GENERATION\n",
        "            avg_fitness = fitness_scores.mean().item() / BATCHES_PER_GENERATION\n",
        "            print(f\"\\n[Gen {generation+1}/{NUM_GENERATIONS}] Best Fitness: {best_fitness:.4f}, Pop Avg Fitness: {avg_fitness:.4f}\")\n",
        "\n",
        "            # --- Elitism ---\n",
        "            sorted_indices = torch.argsort(fitness_scores, descending=True)\n",
        "            num_to_keep = int(POPULATION_SIZE * ELITISM_RATE)\n",
        "            new_population = [population[i] for i in sorted_indices[:num_to_keep]]\n",
        "\n",
        "            # --- Reproduction with Tournament Selection ---\n",
        "            num_children_to_create = POPULATION_SIZE - num_to_keep\n",
        "            with torch.no_grad():\n",
        "                for _ in range(num_children_to_create):\n",
        "                    parent1 = tournament_selection(population, fitness_scores)\n",
        "                    parent2 = tournament_selection(population, fitness_scores)\n",
        "                    child = crossover(parent1, parent2)\n",
        "                    child = mutate(child)\n",
        "                    child.eval()\n",
        "                    new_population.append(child)\n",
        "            population = new_population\n",
        "\n",
        "            # --- Track Performance ---\n",
        "            accuracy = evaluate_model(population[0], test_loader)\n",
        "            ea_history.append((batch_counter_ea, accuracy))\n",
        "            print(f\"    -> Best Model Test Accuracy: {accuracy:.2f}%\")\n",
        "\n",
        "    # --- Part B: Train a model with Adam Optimizer (Baseline) ---\n",
        "    print(\"\\n--- Training Baseline Model with Adam Optimizer ---\")\n",
        "    adam_model = SimpleNet().to(DEVICE)\n",
        "    optimizer = torch.optim.Adam(adam_model.parameters(), lr=LEARNING_RATE_ADAM)\n",
        "    batch_counter = 0\n",
        "\n",
        "    for epoch in range(EPOCHS):\n",
        "        adam_model.train()\n",
        "        for images, labels in tqdm(train_loader, desc=f\"Adam Epoch {epoch+1}/{EPOCHS}\"):\n",
        "            images, labels = images.to(DEVICE), labels.to(DEVICE)\n",
        "            outputs = adam_model(images)\n",
        "            loss = loss_fn(outputs, labels)\n",
        "            optimizer.zero_grad()\n",
        "            loss.backward()\n",
        "            optimizer.step()\n",
        "            batch_counter += 1\n",
        "            if batch_counter % BATCHES_PER_GENERATION == 0 or batch_counter >= total_batches:\n",
        "                accuracy = evaluate_model(adam_model, test_loader)\n",
        "                adam_history.append((batch_counter, accuracy))\n",
        "\n",
        "    # --- Final Comparison ---\n",
        "    print(\"\\n--- Final Results ---\")\n",
        "    adam_accuracy = evaluate_model(adam_model, test_loader) if adam_history else 0\n",
        "    ea_accuracy = evaluate_model(population[0], test_loader) if ea_history else 0\n",
        "    print(f\"Final Adam Model Accuracy: {adam_accuracy:.2f}%\")\n",
        "    print(f\"Final Best EA Model Accuracy: {ea_accuracy:.2f}%\")\n",
        "\n",
        "    # --- Plotting ---\n",
        "    plot_performance(adam_history, ea_history)\n",
        "\n",
        "if __name__ == \"__main__\":\n",
        "    main()\n",
        "\n"
      ],
      "outputs": [
        {
          "output_type": "stream",
          "name": "stdout",
          "text": [
            "Using device: cuda\n",
            "Both algorithms will run for approx 295 batches.\n",
            "EA will run for 295 generations of 1 batches each.\n",
            "\n",
            "--- Training Population with Evolutionary Algorithm ---\n"
          ]
        },
        {
          "output_type": "stream",
          "name": "stderr",
          "text": [
            "\rEA Generations:   0%|          | 0/295 [00:00<?, ?it/s]"
          ]
        },
        {
          "output_type": "stream",
          "name": "stdout",
          "text": [
            "\n",
            "[Gen 1/295] Best Fitness: -2.2862, Pop Avg Fitness: -2.3077\n"
          ]
        },
        {
          "output_type": "stream",
          "name": "stderr",
          "text": [
            "\rEA Generations:   0%|          | 1/295 [00:15<1:18:06, 15.94s/it]"
          ]
        },
        {
          "output_type": "stream",
          "name": "stdout",
          "text": [
            "    -> Best Model Test Accuracy: 10.23%\n",
            "\n",
            "[Gen 2/295] Best Fitness: -2.2770, Pop Avg Fitness: -2.3053\n"
          ]
        },
        {
          "output_type": "stream",
          "name": "stderr",
          "text": [
            "\rEA Generations:   1%|          | 2/295 [00:32<1:20:21, 16.45s/it]"
          ]
        },
        {
          "output_type": "stream",
          "name": "stdout",
          "text": [
            "    -> Best Model Test Accuracy: 14.65%\n",
            "\n",
            "[Gen 3/295] Best Fitness: -2.2822, Pop Avg Fitness: -2.3040\n"
          ]
        },
        {
          "output_type": "stream",
          "name": "stderr",
          "text": [
            "\rEA Generations:   1%|          | 3/295 [00:48<1:18:41, 16.17s/it]"
          ]
        },
        {
          "output_type": "stream",
          "name": "stdout",
          "text": [
            "    -> Best Model Test Accuracy: 14.65%\n",
            "\n",
            "[Gen 4/295] Best Fitness: -2.2739, Pop Avg Fitness: -2.3041\n"
          ]
        },
        {
          "output_type": "stream",
          "name": "stderr",
          "text": [
            "\rEA Generations:   1%|▏         | 4/295 [01:04<1:17:59, 16.08s/it]"
          ]
        },
        {
          "output_type": "stream",
          "name": "stdout",
          "text": [
            "    -> Best Model Test Accuracy: 14.65%\n",
            "\n",
            "[Gen 5/295] Best Fitness: -2.2791, Pop Avg Fitness: -2.3031\n"
          ]
        },
        {
          "output_type": "stream",
          "name": "stderr",
          "text": [
            "\rEA Generations:   2%|▏         | 5/295 [01:21<1:18:39, 16.27s/it]"
          ]
        },
        {
          "output_type": "stream",
          "name": "stdout",
          "text": [
            "    -> Best Model Test Accuracy: 18.00%\n",
            "\n",
            "[Gen 6/295] Best Fitness: -2.2787, Pop Avg Fitness: -2.3024\n"
          ]
        },
        {
          "output_type": "stream",
          "name": "stderr",
          "text": [
            "\rEA Generations:   2%|▏         | 6/295 [01:36<1:17:32, 16.10s/it]"
          ]
        },
        {
          "output_type": "stream",
          "name": "stdout",
          "text": [
            "    -> Best Model Test Accuracy: 15.49%\n",
            "\n",
            "[Gen 7/295] Best Fitness: -2.2564, Pop Avg Fitness: -2.3044\n"
          ]
        },
        {
          "output_type": "stream",
          "name": "stderr",
          "text": [
            "\rEA Generations:   2%|▏         | 7/295 [01:52<1:16:51, 16.01s/it]"
          ]
        },
        {
          "output_type": "stream",
          "name": "stdout",
          "text": [
            "    -> Best Model Test Accuracy: 16.13%\n",
            "\n",
            "[Gen 8/295] Best Fitness: -2.2627, Pop Avg Fitness: -2.3018\n"
          ]
        },
        {
          "output_type": "stream",
          "name": "stderr",
          "text": [
            "\rEA Generations:   3%|▎         | 8/295 [02:09<1:17:31, 16.21s/it]"
          ]
        },
        {
          "output_type": "stream",
          "name": "stdout",
          "text": [
            "    -> Best Model Test Accuracy: 13.42%\n",
            "\n",
            "[Gen 9/295] Best Fitness: -2.2629, Pop Avg Fitness: -2.3028\n"
          ]
        },
        {
          "output_type": "stream",
          "name": "stderr",
          "text": [
            "\rEA Generations:   3%|▎         | 9/295 [02:25<1:16:45, 16.10s/it]"
          ]
        },
        {
          "output_type": "stream",
          "name": "stdout",
          "text": [
            "    -> Best Model Test Accuracy: 16.13%\n",
            "\n",
            "[Gen 10/295] Best Fitness: -2.2544, Pop Avg Fitness: -2.2980\n"
          ]
        },
        {
          "output_type": "stream",
          "name": "stderr",
          "text": [
            "\rEA Generations:   3%|▎         | 10/295 [02:41<1:16:11, 16.04s/it]"
          ]
        },
        {
          "output_type": "stream",
          "name": "stdout",
          "text": [
            "    -> Best Model Test Accuracy: 18.09%\n",
            "\n",
            "[Gen 11/295] Best Fitness: -2.2581, Pop Avg Fitness: -2.2952\n"
          ]
        },
        {
          "output_type": "stream",
          "name": "stderr",
          "text": [
            "\rEA Generations:   4%|▎         | 11/295 [02:58<1:17:11, 16.31s/it]"
          ]
        },
        {
          "output_type": "stream",
          "name": "stdout",
          "text": [
            "    -> Best Model Test Accuracy: 18.09%\n",
            "\n",
            "[Gen 12/295] Best Fitness: -2.2549, Pop Avg Fitness: -2.2915\n"
          ]
        },
        {
          "output_type": "stream",
          "name": "stderr",
          "text": [
            "\rEA Generations:   4%|▍         | 12/295 [03:13<1:16:19, 16.18s/it]"
          ]
        },
        {
          "output_type": "stream",
          "name": "stdout",
          "text": [
            "    -> Best Model Test Accuracy: 19.68%\n",
            "\n",
            "[Gen 13/295] Best Fitness: -2.2445, Pop Avg Fitness: -2.2847\n"
          ]
        },
        {
          "output_type": "stream",
          "name": "stderr",
          "text": [
            "\rEA Generations:   4%|▍         | 13/295 [03:29<1:15:38, 16.09s/it]"
          ]
        },
        {
          "output_type": "stream",
          "name": "stdout",
          "text": [
            "    -> Best Model Test Accuracy: 16.14%\n",
            "\n",
            "[Gen 14/295] Best Fitness: -2.2208, Pop Avg Fitness: -2.2811\n"
          ]
        },
        {
          "output_type": "stream",
          "name": "stderr",
          "text": [
            "\rEA Generations:   5%|▍         | 14/295 [03:46<1:16:11, 16.27s/it]"
          ]
        },
        {
          "output_type": "stream",
          "name": "stdout",
          "text": [
            "    -> Best Model Test Accuracy: 15.00%\n",
            "\n",
            "[Gen 15/295] Best Fitness: -2.2165, Pop Avg Fitness: -2.2714\n"
          ]
        },
        {
          "output_type": "stream",
          "name": "stderr",
          "text": [
            "\rEA Generations:   5%|▌         | 15/295 [04:02<1:15:18, 16.14s/it]"
          ]
        },
        {
          "output_type": "stream",
          "name": "stdout",
          "text": [
            "    -> Best Model Test Accuracy: 19.36%\n",
            "\n",
            "[Gen 16/295] Best Fitness: -2.2135, Pop Avg Fitness: -2.2646\n"
          ]
        },
        {
          "output_type": "stream",
          "name": "stderr",
          "text": [
            "\rEA Generations:   5%|▌         | 16/295 [04:18<1:15:15, 16.18s/it]"
          ]
        },
        {
          "output_type": "stream",
          "name": "stdout",
          "text": [
            "    -> Best Model Test Accuracy: 18.16%\n",
            "\n",
            "[Gen 17/295] Best Fitness: -2.2017, Pop Avg Fitness: -2.2458\n"
          ]
        },
        {
          "output_type": "stream",
          "name": "stderr",
          "text": [
            "\rEA Generations:   6%|▌         | 17/295 [04:35<1:15:32, 16.30s/it]"
          ]
        },
        {
          "output_type": "stream",
          "name": "stdout",
          "text": [
            "    -> Best Model Test Accuracy: 15.75%\n",
            "\n",
            "[Gen 18/295] Best Fitness: -2.1959, Pop Avg Fitness: -2.2360\n"
          ]
        },
        {
          "output_type": "stream",
          "name": "stderr",
          "text": [
            "\rEA Generations:   6%|▌         | 18/295 [04:51<1:14:51, 16.21s/it]"
          ]
        },
        {
          "output_type": "stream",
          "name": "stdout",
          "text": [
            "    -> Best Model Test Accuracy: 17.38%\n",
            "\n",
            "[Gen 19/295] Best Fitness: -2.1600, Pop Avg Fitness: -2.2022\n"
          ]
        },
        {
          "output_type": "stream",
          "name": "stderr",
          "text": [
            "\rEA Generations:   6%|▋         | 19/295 [05:07<1:14:07, 16.11s/it]"
          ]
        },
        {
          "output_type": "stream",
          "name": "stdout",
          "text": [
            "    -> Best Model Test Accuracy: 19.18%\n",
            "\n",
            "[Gen 20/295] Best Fitness: -2.1634, Pop Avg Fitness: -2.2094\n"
          ]
        },
        {
          "output_type": "stream",
          "name": "stderr",
          "text": [
            "\rEA Generations:   7%|▋         | 20/295 [05:23<1:14:39, 16.29s/it]"
          ]
        },
        {
          "output_type": "stream",
          "name": "stdout",
          "text": [
            "    -> Best Model Test Accuracy: 22.10%\n",
            "\n",
            "[Gen 21/295] Best Fitness: -2.1562, Pop Avg Fitness: -2.1957\n"
          ]
        },
        {
          "output_type": "stream",
          "name": "stderr",
          "text": [
            "\rEA Generations:   7%|▋         | 21/295 [05:39<1:13:50, 16.17s/it]"
          ]
        },
        {
          "output_type": "stream",
          "name": "stdout",
          "text": [
            "    -> Best Model Test Accuracy: 22.10%\n",
            "\n",
            "[Gen 22/295] Best Fitness: -2.1385, Pop Avg Fitness: -2.1856\n"
          ]
        },
        {
          "output_type": "stream",
          "name": "stderr",
          "text": [
            "\rEA Generations:   7%|▋         | 22/295 [05:56<1:13:52, 16.24s/it]"
          ]
        },
        {
          "output_type": "stream",
          "name": "stdout",
          "text": [
            "    -> Best Model Test Accuracy: 23.12%\n",
            "\n",
            "[Gen 23/295] Best Fitness: -2.1223, Pop Avg Fitness: -2.1690\n"
          ]
        },
        {
          "output_type": "stream",
          "name": "stderr",
          "text": [
            "\rEA Generations:   8%|▊         | 23/295 [06:12<1:14:16, 16.38s/it]"
          ]
        },
        {
          "output_type": "stream",
          "name": "stdout",
          "text": [
            "    -> Best Model Test Accuracy: 26.93%\n",
            "\n",
            "[Gen 24/295] Best Fitness: -2.1067, Pop Avg Fitness: -2.1548\n"
          ]
        },
        {
          "output_type": "stream",
          "name": "stderr",
          "text": [
            "\rEA Generations:   8%|▊         | 24/295 [06:28<1:13:24, 16.25s/it]"
          ]
        },
        {
          "output_type": "stream",
          "name": "stdout",
          "text": [
            "    -> Best Model Test Accuracy: 25.52%\n",
            "\n",
            "[Gen 25/295] Best Fitness: -2.0641, Pop Avg Fitness: -2.1173\n"
          ]
        },
        {
          "output_type": "stream",
          "name": "stderr",
          "text": [
            "\rEA Generations:   8%|▊         | 25/295 [06:44<1:12:32, 16.12s/it]"
          ]
        },
        {
          "output_type": "stream",
          "name": "stdout",
          "text": [
            "    -> Best Model Test Accuracy: 24.22%\n",
            "\n",
            "[Gen 26/295] Best Fitness: -2.0909, Pop Avg Fitness: -2.1334\n"
          ]
        },
        {
          "output_type": "stream",
          "name": "stderr",
          "text": [
            "\rEA Generations:   9%|▉         | 26/295 [07:00<1:12:26, 16.16s/it]"
          ]
        },
        {
          "output_type": "stream",
          "name": "stdout",
          "text": [
            "    -> Best Model Test Accuracy: 26.06%\n",
            "\n",
            "[Gen 27/295] Best Fitness: -2.0652, Pop Avg Fitness: -2.1124\n"
          ]
        },
        {
          "output_type": "stream",
          "name": "stderr",
          "text": [
            "\rEA Generations:   9%|▉         | 27/295 [07:16<1:12:08, 16.15s/it]"
          ]
        },
        {
          "output_type": "stream",
          "name": "stdout",
          "text": [
            "    -> Best Model Test Accuracy: 22.74%\n",
            "\n",
            "[Gen 28/295] Best Fitness: -2.0322, Pop Avg Fitness: -2.0939\n"
          ]
        },
        {
          "output_type": "stream",
          "name": "stderr",
          "text": [
            "\rEA Generations:   9%|▉         | 28/295 [07:32<1:11:26, 16.06s/it]"
          ]
        },
        {
          "output_type": "stream",
          "name": "stdout",
          "text": [
            "    -> Best Model Test Accuracy: 27.34%\n",
            "\n",
            "[Gen 29/295] Best Fitness: -2.0138, Pop Avg Fitness: -2.0769\n"
          ]
        },
        {
          "output_type": "stream",
          "name": "stderr",
          "text": [
            "\rEA Generations:  10%|▉         | 29/295 [07:48<1:11:18, 16.09s/it]"
          ]
        },
        {
          "output_type": "stream",
          "name": "stdout",
          "text": [
            "    -> Best Model Test Accuracy: 28.21%\n",
            "\n",
            "[Gen 30/295] Best Fitness: -2.0105, Pop Avg Fitness: -2.0708\n"
          ]
        },
        {
          "output_type": "stream",
          "name": "stderr",
          "text": [
            "\rEA Generations:  10%|█         | 30/295 [08:05<1:11:52, 16.27s/it]"
          ]
        },
        {
          "output_type": "stream",
          "name": "stdout",
          "text": [
            "    -> Best Model Test Accuracy: 30.15%\n",
            "\n",
            "[Gen 31/295] Best Fitness: -1.9565, Pop Avg Fitness: -2.0279\n"
          ]
        },
        {
          "output_type": "stream",
          "name": "stderr",
          "text": [
            "\rEA Generations:  11%|█         | 31/295 [08:21<1:11:06, 16.16s/it]"
          ]
        },
        {
          "output_type": "stream",
          "name": "stdout",
          "text": [
            "    -> Best Model Test Accuracy: 32.08%\n",
            "\n",
            "[Gen 32/295] Best Fitness: -1.9780, Pop Avg Fitness: -2.0401\n"
          ]
        },
        {
          "output_type": "stream",
          "name": "stderr",
          "text": [
            "\rEA Generations:  11%|█         | 32/295 [08:37<1:10:40, 16.12s/it]"
          ]
        },
        {
          "output_type": "stream",
          "name": "stdout",
          "text": [
            "    -> Best Model Test Accuracy: 32.97%\n",
            "\n",
            "[Gen 33/295] Best Fitness: -1.9510, Pop Avg Fitness: -2.0072\n"
          ]
        },
        {
          "output_type": "stream",
          "name": "stderr",
          "text": [
            "\rEA Generations:  11%|█         | 33/295 [08:53<1:10:46, 16.21s/it]"
          ]
        },
        {
          "output_type": "stream",
          "name": "stdout",
          "text": [
            "    -> Best Model Test Accuracy: 35.59%\n",
            "\n",
            "[Gen 34/295] Best Fitness: -1.9432, Pop Avg Fitness: -2.0075\n"
          ]
        },
        {
          "output_type": "stream",
          "name": "stderr",
          "text": [
            "\rEA Generations:  12%|█▏        | 34/295 [09:09<1:10:03, 16.10s/it]"
          ]
        },
        {
          "output_type": "stream",
          "name": "stdout",
          "text": [
            "    -> Best Model Test Accuracy: 31.15%\n",
            "\n",
            "[Gen 35/295] Best Fitness: -1.9044, Pop Avg Fitness: -1.9751\n"
          ]
        },
        {
          "output_type": "stream",
          "name": "stderr",
          "text": [
            "\rEA Generations:  12%|█▏        | 35/295 [09:25<1:09:30, 16.04s/it]"
          ]
        },
        {
          "output_type": "stream",
          "name": "stdout",
          "text": [
            "    -> Best Model Test Accuracy: 37.08%\n",
            "\n",
            "[Gen 36/295] Best Fitness: -1.8792, Pop Avg Fitness: -1.9500\n"
          ]
        },
        {
          "output_type": "stream",
          "name": "stderr",
          "text": [
            "\rEA Generations:  12%|█▏        | 36/295 [09:42<1:09:45, 16.16s/it]"
          ]
        },
        {
          "output_type": "stream",
          "name": "stdout",
          "text": [
            "    -> Best Model Test Accuracy: 32.15%\n",
            "\n",
            "[Gen 37/295] Best Fitness: -1.8711, Pop Avg Fitness: -1.9368\n"
          ]
        },
        {
          "output_type": "stream",
          "name": "stderr",
          "text": [
            "\rEA Generations:  13%|█▎        | 37/295 [09:58<1:09:05, 16.07s/it]"
          ]
        },
        {
          "output_type": "stream",
          "name": "stdout",
          "text": [
            "    -> Best Model Test Accuracy: 39.62%\n",
            "\n",
            "[Gen 38/295] Best Fitness: -1.8066, Pop Avg Fitness: -1.8799\n"
          ]
        },
        {
          "output_type": "stream",
          "name": "stderr",
          "text": [
            "\rEA Generations:  13%|█▎        | 38/295 [10:13<1:08:17, 15.94s/it]"
          ]
        },
        {
          "output_type": "stream",
          "name": "stdout",
          "text": [
            "    -> Best Model Test Accuracy: 40.05%\n",
            "\n",
            "[Gen 39/295] Best Fitness: -1.7757, Pop Avg Fitness: -1.8549\n"
          ]
        },
        {
          "output_type": "stream",
          "name": "stderr",
          "text": [
            "\rEA Generations:  13%|█▎        | 39/295 [10:30<1:09:16, 16.24s/it]"
          ]
        },
        {
          "output_type": "stream",
          "name": "stdout",
          "text": [
            "    -> Best Model Test Accuracy: 36.74%\n",
            "\n",
            "[Gen 40/295] Best Fitness: -1.7606, Pop Avg Fitness: -1.8393\n"
          ]
        },
        {
          "output_type": "stream",
          "name": "stderr",
          "text": [
            "\rEA Generations:  14%|█▎        | 40/295 [10:46<1:08:33, 16.13s/it]"
          ]
        },
        {
          "output_type": "stream",
          "name": "stdout",
          "text": [
            "    -> Best Model Test Accuracy: 42.78%\n",
            "\n",
            "[Gen 41/295] Best Fitness: -1.7671, Pop Avg Fitness: -1.8273\n"
          ]
        },
        {
          "output_type": "stream",
          "name": "stderr",
          "text": [
            "\rEA Generations:  14%|█▍        | 41/295 [11:02<1:07:55, 16.04s/it]"
          ]
        },
        {
          "output_type": "stream",
          "name": "stdout",
          "text": [
            "    -> Best Model Test Accuracy: 39.86%\n",
            "\n",
            "[Gen 42/295] Best Fitness: -1.7239, Pop Avg Fitness: -1.7788\n"
          ]
        },
        {
          "output_type": "stream",
          "name": "stderr",
          "text": [
            "\rEA Generations:  14%|█▍        | 42/295 [11:18<1:08:24, 16.22s/it]"
          ]
        },
        {
          "output_type": "stream",
          "name": "stdout",
          "text": [
            "    -> Best Model Test Accuracy: 43.74%\n",
            "\n",
            "[Gen 43/295] Best Fitness: -1.6882, Pop Avg Fitness: -1.7528\n"
          ]
        },
        {
          "output_type": "stream",
          "name": "stderr",
          "text": [
            "\rEA Generations:  15%|█▍        | 43/295 [11:34<1:07:35, 16.09s/it]"
          ]
        },
        {
          "output_type": "stream",
          "name": "stdout",
          "text": [
            "    -> Best Model Test Accuracy: 44.65%\n",
            "\n",
            "[Gen 44/295] Best Fitness: -1.6995, Pop Avg Fitness: -1.7595\n"
          ]
        },
        {
          "output_type": "stream",
          "name": "stderr",
          "text": [
            "\rEA Generations:  15%|█▍        | 44/295 [11:50<1:07:05, 16.04s/it]"
          ]
        },
        {
          "output_type": "stream",
          "name": "stdout",
          "text": [
            "    -> Best Model Test Accuracy: 48.94%\n",
            "\n",
            "[Gen 45/295] Best Fitness: -1.7080, Pop Avg Fitness: -1.7688\n"
          ]
        },
        {
          "output_type": "stream",
          "name": "stderr",
          "text": [
            "\rEA Generations:  15%|█▌        | 45/295 [12:07<1:07:22, 16.17s/it]"
          ]
        },
        {
          "output_type": "stream",
          "name": "stdout",
          "text": [
            "    -> Best Model Test Accuracy: 48.45%\n",
            "\n",
            "[Gen 46/295] Best Fitness: -1.6892, Pop Avg Fitness: -1.7466\n"
          ]
        },
        {
          "output_type": "stream",
          "name": "stderr",
          "text": [
            "\rEA Generations:  16%|█▌        | 46/295 [12:22<1:06:37, 16.05s/it]"
          ]
        },
        {
          "output_type": "stream",
          "name": "stdout",
          "text": [
            "    -> Best Model Test Accuracy: 48.04%\n",
            "\n",
            "[Gen 47/295] Best Fitness: -1.6407, Pop Avg Fitness: -1.6986\n"
          ]
        },
        {
          "output_type": "stream",
          "name": "stderr",
          "text": [
            "\rEA Generations:  16%|█▌        | 47/295 [12:39<1:06:31, 16.09s/it]"
          ]
        },
        {
          "output_type": "stream",
          "name": "stdout",
          "text": [
            "    -> Best Model Test Accuracy: 48.53%\n",
            "\n",
            "[Gen 48/295] Best Fitness: -1.6275, Pop Avg Fitness: -1.6919\n"
          ]
        },
        {
          "output_type": "stream",
          "name": "stderr",
          "text": [
            "\rEA Generations:  16%|█▋        | 48/295 [12:55<1:06:52, 16.24s/it]"
          ]
        },
        {
          "output_type": "stream",
          "name": "stdout",
          "text": [
            "    -> Best Model Test Accuracy: 47.52%\n",
            "\n",
            "[Gen 49/295] Best Fitness: -1.6419, Pop Avg Fitness: -1.7113\n"
          ]
        },
        {
          "output_type": "stream",
          "name": "stderr",
          "text": [
            "\rEA Generations:  17%|█▋        | 49/295 [13:11<1:06:10, 16.14s/it]"
          ]
        },
        {
          "output_type": "stream",
          "name": "stdout",
          "text": [
            "    -> Best Model Test Accuracy: 51.95%\n",
            "\n",
            "[Gen 50/295] Best Fitness: -1.5876, Pop Avg Fitness: -1.6611\n"
          ]
        },
        {
          "output_type": "stream",
          "name": "stderr",
          "text": [
            "\rEA Generations:  17%|█▋        | 50/295 [13:27<1:05:34, 16.06s/it]"
          ]
        },
        {
          "output_type": "stream",
          "name": "stdout",
          "text": [
            "    -> Best Model Test Accuracy: 51.04%\n",
            "\n",
            "[Gen 51/295] Best Fitness: -1.5644, Pop Avg Fitness: -1.6326\n"
          ]
        },
        {
          "output_type": "stream",
          "name": "stderr",
          "text": [
            "\rEA Generations:  17%|█▋        | 51/295 [13:43<1:05:42, 16.16s/it]"
          ]
        },
        {
          "output_type": "stream",
          "name": "stdout",
          "text": [
            "    -> Best Model Test Accuracy: 53.45%\n",
            "\n",
            "[Gen 52/295] Best Fitness: -1.5465, Pop Avg Fitness: -1.6170\n"
          ]
        },
        {
          "output_type": "stream",
          "name": "stderr",
          "text": [
            "\rEA Generations:  18%|█▊        | 52/295 [13:59<1:05:06, 16.08s/it]"
          ]
        },
        {
          "output_type": "stream",
          "name": "stdout",
          "text": [
            "    -> Best Model Test Accuracy: 50.57%\n",
            "\n",
            "[Gen 53/295] Best Fitness: -1.5161, Pop Avg Fitness: -1.5935\n"
          ]
        },
        {
          "output_type": "stream",
          "name": "stderr",
          "text": [
            "\rEA Generations:  18%|█▊        | 53/295 [14:15<1:04:55, 16.10s/it]"
          ]
        },
        {
          "output_type": "stream",
          "name": "stdout",
          "text": [
            "    -> Best Model Test Accuracy: 52.99%\n",
            "\n",
            "[Gen 54/295] Best Fitness: -1.5172, Pop Avg Fitness: -1.5942\n"
          ]
        },
        {
          "output_type": "stream",
          "name": "stderr",
          "text": [
            "\rEA Generations:  18%|█▊        | 54/295 [14:32<1:04:57, 16.17s/it]"
          ]
        },
        {
          "output_type": "stream",
          "name": "stdout",
          "text": [
            "    -> Best Model Test Accuracy: 54.66%\n",
            "\n",
            "[Gen 55/295] Best Fitness: -1.4820, Pop Avg Fitness: -1.5611\n"
          ]
        },
        {
          "output_type": "stream",
          "name": "stderr",
          "text": [
            "\rEA Generations:  19%|█▊        | 55/295 [14:48<1:04:25, 16.10s/it]"
          ]
        },
        {
          "output_type": "stream",
          "name": "stdout",
          "text": [
            "    -> Best Model Test Accuracy: 54.68%\n",
            "\n",
            "[Gen 56/295] Best Fitness: -1.4750, Pop Avg Fitness: -1.5584\n"
          ]
        },
        {
          "output_type": "stream",
          "name": "stderr",
          "text": [
            "\rEA Generations:  19%|█▉        | 56/295 [15:04<1:03:49, 16.02s/it]"
          ]
        },
        {
          "output_type": "stream",
          "name": "stdout",
          "text": [
            "    -> Best Model Test Accuracy: 57.89%\n",
            "\n",
            "[Gen 57/295] Best Fitness: -1.4786, Pop Avg Fitness: -1.5424\n"
          ]
        },
        {
          "output_type": "stream",
          "name": "stderr",
          "text": [
            "\rEA Generations:  19%|█▉        | 57/295 [15:20<1:03:40, 16.05s/it]"
          ]
        },
        {
          "output_type": "stream",
          "name": "stdout",
          "text": [
            "    -> Best Model Test Accuracy: 53.32%\n",
            "\n",
            "[Gen 58/295] Best Fitness: -1.4456, Pop Avg Fitness: -1.5105\n"
          ]
        },
        {
          "output_type": "stream",
          "name": "stderr",
          "text": [
            "\rEA Generations:  20%|█▉        | 58/295 [15:36<1:03:35, 16.10s/it]"
          ]
        },
        {
          "output_type": "stream",
          "name": "stdout",
          "text": [
            "    -> Best Model Test Accuracy: 56.78%\n",
            "\n",
            "[Gen 59/295] Best Fitness: -1.4393, Pop Avg Fitness: -1.5029\n"
          ]
        },
        {
          "output_type": "stream",
          "name": "stderr",
          "text": [
            "\rEA Generations:  20%|██        | 59/295 [15:52<1:03:36, 16.17s/it]"
          ]
        },
        {
          "output_type": "stream",
          "name": "stdout",
          "text": [
            "    -> Best Model Test Accuracy: 57.30%\n",
            "\n",
            "[Gen 60/295] Best Fitness: -1.3934, Pop Avg Fitness: -1.4687\n"
          ]
        },
        {
          "output_type": "stream",
          "name": "stderr",
          "text": [
            "\rEA Generations:  20%|██        | 60/295 [16:09<1:04:08, 16.38s/it]"
          ]
        },
        {
          "output_type": "stream",
          "name": "stdout",
          "text": [
            "    -> Best Model Test Accuracy: 56.18%\n",
            "\n",
            "[Gen 61/295] Best Fitness: -1.4068, Pop Avg Fitness: -1.4645\n"
          ]
        },
        {
          "output_type": "stream",
          "name": "stderr",
          "text": [
            "\rEA Generations:  21%|██        | 61/295 [16:26<1:04:03, 16.43s/it]"
          ]
        },
        {
          "output_type": "stream",
          "name": "stdout",
          "text": [
            "    -> Best Model Test Accuracy: 58.83%\n",
            "\n",
            "[Gen 62/295] Best Fitness: -1.3801, Pop Avg Fitness: -1.4429\n"
          ]
        },
        {
          "output_type": "stream",
          "name": "stderr",
          "text": [
            "\rEA Generations:  21%|██        | 62/295 [16:42<1:03:17, 16.30s/it]"
          ]
        },
        {
          "output_type": "stream",
          "name": "stdout",
          "text": [
            "    -> Best Model Test Accuracy: 57.51%\n",
            "\n",
            "[Gen 63/295] Best Fitness: -1.3375, Pop Avg Fitness: -1.3993\n"
          ]
        },
        {
          "output_type": "stream",
          "name": "stderr",
          "text": [
            "\rEA Generations:  21%|██▏       | 63/295 [16:58<1:03:13, 16.35s/it]"
          ]
        },
        {
          "output_type": "stream",
          "name": "stdout",
          "text": [
            "    -> Best Model Test Accuracy: 59.08%\n",
            "\n",
            "[Gen 64/295] Best Fitness: -1.3526, Pop Avg Fitness: -1.4073\n"
          ]
        },
        {
          "output_type": "stream",
          "name": "stderr",
          "text": [
            "\rEA Generations:  22%|██▏       | 64/295 [17:14<1:02:29, 16.23s/it]"
          ]
        },
        {
          "output_type": "stream",
          "name": "stdout",
          "text": [
            "    -> Best Model Test Accuracy: 59.80%\n",
            "\n",
            "[Gen 65/295] Best Fitness: -1.3197, Pop Avg Fitness: -1.3899\n"
          ]
        },
        {
          "output_type": "stream",
          "name": "stderr",
          "text": [
            "\rEA Generations:  22%|██▏       | 65/295 [17:30<1:01:52, 16.14s/it]"
          ]
        },
        {
          "output_type": "stream",
          "name": "stdout",
          "text": [
            "    -> Best Model Test Accuracy: 60.27%\n",
            "\n",
            "[Gen 66/295] Best Fitness: -1.3186, Pop Avg Fitness: -1.3793\n"
          ]
        },
        {
          "output_type": "stream",
          "name": "stderr",
          "text": [
            "\rEA Generations:  22%|██▏       | 66/295 [17:46<1:01:48, 16.20s/it]"
          ]
        },
        {
          "output_type": "stream",
          "name": "stdout",
          "text": [
            "    -> Best Model Test Accuracy: 61.17%\n",
            "\n",
            "[Gen 67/295] Best Fitness: -1.2738, Pop Avg Fitness: -1.3369\n"
          ]
        },
        {
          "output_type": "stream",
          "name": "stderr",
          "text": [
            "\rEA Generations:  23%|██▎       | 67/295 [18:03<1:01:52, 16.28s/it]"
          ]
        },
        {
          "output_type": "stream",
          "name": "stdout",
          "text": [
            "    -> Best Model Test Accuracy: 59.64%\n",
            "\n",
            "[Gen 68/295] Best Fitness: -1.2704, Pop Avg Fitness: -1.3272\n"
          ]
        },
        {
          "output_type": "stream",
          "name": "stderr",
          "text": [
            "\rEA Generations:  23%|██▎       | 68/295 [18:19<1:01:14, 16.19s/it]"
          ]
        },
        {
          "output_type": "stream",
          "name": "stdout",
          "text": [
            "    -> Best Model Test Accuracy: 61.78%\n",
            "\n",
            "[Gen 69/295] Best Fitness: -1.3075, Pop Avg Fitness: -1.3619\n"
          ]
        },
        {
          "output_type": "stream",
          "name": "stderr",
          "text": [
            "\rEA Generations:  23%|██▎       | 69/295 [18:35<1:00:51, 16.16s/it]"
          ]
        },
        {
          "output_type": "stream",
          "name": "stdout",
          "text": [
            "    -> Best Model Test Accuracy: 61.74%\n",
            "\n",
            "[Gen 70/295] Best Fitness: -1.2680, Pop Avg Fitness: -1.3281\n"
          ]
        },
        {
          "output_type": "stream",
          "name": "stderr",
          "text": [
            "\rEA Generations:  24%|██▎       | 70/295 [18:51<1:00:44, 16.20s/it]"
          ]
        },
        {
          "output_type": "stream",
          "name": "stdout",
          "text": [
            "    -> Best Model Test Accuracy: 62.42%\n",
            "\n",
            "[Gen 71/295] Best Fitness: -1.2483, Pop Avg Fitness: -1.3075\n"
          ]
        },
        {
          "output_type": "stream",
          "name": "stderr",
          "text": [
            "\rEA Generations:  24%|██▍       | 71/295 [19:07<1:00:09, 16.12s/it]"
          ]
        },
        {
          "output_type": "stream",
          "name": "stdout",
          "text": [
            "    -> Best Model Test Accuracy: 64.14%\n",
            "\n",
            "[Gen 72/295] Best Fitness: -1.2797, Pop Avg Fitness: -1.3258\n"
          ]
        },
        {
          "output_type": "stream",
          "name": "stderr",
          "text": [
            "\rEA Generations:  24%|██▍       | 72/295 [19:23<59:43, 16.07s/it]  "
          ]
        },
        {
          "output_type": "stream",
          "name": "stdout",
          "text": [
            "    -> Best Model Test Accuracy: 60.61%\n",
            "\n",
            "[Gen 73/295] Best Fitness: -1.2094, Pop Avg Fitness: -1.2660\n"
          ]
        },
        {
          "output_type": "stream",
          "name": "stderr",
          "text": [
            "\rEA Generations:  25%|██▍       | 73/295 [19:39<59:55, 16.20s/it]"
          ]
        },
        {
          "output_type": "stream",
          "name": "stdout",
          "text": [
            "    -> Best Model Test Accuracy: 65.27%\n",
            "\n",
            "[Gen 74/295] Best Fitness: -1.2028, Pop Avg Fitness: -1.2532\n"
          ]
        },
        {
          "output_type": "stream",
          "name": "stderr",
          "text": [
            "\rEA Generations:  25%|██▌       | 74/295 [19:55<59:26, 16.14s/it]"
          ]
        },
        {
          "output_type": "stream",
          "name": "stdout",
          "text": [
            "    -> Best Model Test Accuracy: 64.70%\n",
            "\n",
            "[Gen 75/295] Best Fitness: -1.1800, Pop Avg Fitness: -1.2328\n"
          ]
        },
        {
          "output_type": "stream",
          "name": "stderr",
          "text": [
            "\rEA Generations:  25%|██▌       | 75/295 [20:11<58:58, 16.08s/it]"
          ]
        },
        {
          "output_type": "stream",
          "name": "stdout",
          "text": [
            "    -> Best Model Test Accuracy: 65.03%\n",
            "\n",
            "[Gen 76/295] Best Fitness: -1.1405, Pop Avg Fitness: -1.2036\n"
          ]
        },
        {
          "output_type": "stream",
          "name": "stderr",
          "text": [
            "\rEA Generations:  26%|██▌       | 76/295 [20:28<59:02, 16.18s/it]"
          ]
        },
        {
          "output_type": "stream",
          "name": "stdout",
          "text": [
            "    -> Best Model Test Accuracy: 66.25%\n",
            "\n",
            "[Gen 77/295] Best Fitness: -1.1664, Pop Avg Fitness: -1.2159\n"
          ]
        },
        {
          "output_type": "stream",
          "name": "stderr",
          "text": [
            "\rEA Generations:  26%|██▌       | 77/295 [20:44<58:21, 16.06s/it]"
          ]
        },
        {
          "output_type": "stream",
          "name": "stdout",
          "text": [
            "    -> Best Model Test Accuracy: 64.85%\n",
            "\n",
            "[Gen 78/295] Best Fitness: -1.1698, Pop Avg Fitness: -1.2260\n"
          ]
        },
        {
          "output_type": "stream",
          "name": "stderr",
          "text": [
            "\rEA Generations:  26%|██▋       | 78/295 [20:59<57:51, 16.00s/it]"
          ]
        },
        {
          "output_type": "stream",
          "name": "stdout",
          "text": [
            "    -> Best Model Test Accuracy: 66.97%\n",
            "\n",
            "[Gen 79/295] Best Fitness: -1.1185, Pop Avg Fitness: -1.1725\n"
          ]
        },
        {
          "output_type": "stream",
          "name": "stderr",
          "text": [
            "\rEA Generations:  27%|██▋       | 79/295 [21:16<58:19, 16.20s/it]"
          ]
        },
        {
          "output_type": "stream",
          "name": "stdout",
          "text": [
            "    -> Best Model Test Accuracy: 67.24%\n",
            "\n",
            "[Gen 80/295] Best Fitness: -1.1150, Pop Avg Fitness: -1.1738\n"
          ]
        },
        {
          "output_type": "stream",
          "name": "stderr",
          "text": [
            "\rEA Generations:  27%|██▋       | 80/295 [21:32<57:39, 16.09s/it]"
          ]
        },
        {
          "output_type": "stream",
          "name": "stdout",
          "text": [
            "    -> Best Model Test Accuracy: 68.08%\n",
            "\n",
            "[Gen 81/295] Best Fitness: -1.0861, Pop Avg Fitness: -1.1432\n"
          ]
        },
        {
          "output_type": "stream",
          "name": "stderr",
          "text": [
            "\rEA Generations:  27%|██▋       | 81/295 [21:48<57:04, 16.00s/it]"
          ]
        },
        {
          "output_type": "stream",
          "name": "stdout",
          "text": [
            "    -> Best Model Test Accuracy: 67.93%\n",
            "\n",
            "[Gen 82/295] Best Fitness: -1.0830, Pop Avg Fitness: -1.1281\n"
          ]
        },
        {
          "output_type": "stream",
          "name": "stderr",
          "text": [
            "\rEA Generations:  28%|██▊       | 82/295 [22:04<57:33, 16.21s/it]"
          ]
        },
        {
          "output_type": "stream",
          "name": "stdout",
          "text": [
            "    -> Best Model Test Accuracy: 66.94%\n",
            "\n",
            "[Gen 83/295] Best Fitness: -1.0346, Pop Avg Fitness: -1.0988\n"
          ]
        },
        {
          "output_type": "stream",
          "name": "stderr",
          "text": [
            "\rEA Generations:  28%|██▊       | 83/295 [22:20<57:01, 16.14s/it]"
          ]
        },
        {
          "output_type": "stream",
          "name": "stdout",
          "text": [
            "    -> Best Model Test Accuracy: 67.44%\n",
            "\n",
            "[Gen 84/295] Best Fitness: -1.0491, Pop Avg Fitness: -1.0936\n"
          ]
        },
        {
          "output_type": "stream",
          "name": "stderr",
          "text": [
            "\rEA Generations:  28%|██▊       | 84/295 [22:36<56:35, 16.09s/it]"
          ]
        },
        {
          "output_type": "stream",
          "name": "stdout",
          "text": [
            "    -> Best Model Test Accuracy: 67.91%\n",
            "\n",
            "[Gen 85/295] Best Fitness: -1.0705, Pop Avg Fitness: -1.1388\n"
          ]
        },
        {
          "output_type": "stream",
          "name": "stderr",
          "text": [
            "\rEA Generations:  29%|██▉       | 85/295 [22:53<57:13, 16.35s/it]"
          ]
        },
        {
          "output_type": "stream",
          "name": "stdout",
          "text": [
            "    -> Best Model Test Accuracy: 68.89%\n",
            "\n",
            "[Gen 86/295] Best Fitness: -1.0386, Pop Avg Fitness: -1.0904\n"
          ]
        },
        {
          "output_type": "stream",
          "name": "stderr",
          "text": [
            "\rEA Generations:  29%|██▉       | 86/295 [23:09<56:32, 16.23s/it]"
          ]
        },
        {
          "output_type": "stream",
          "name": "stdout",
          "text": [
            "    -> Best Model Test Accuracy: 69.68%\n",
            "\n",
            "[Gen 87/295] Best Fitness: -1.0632, Pop Avg Fitness: -1.1138\n"
          ]
        },
        {
          "output_type": "stream",
          "name": "stderr",
          "text": [
            "\rEA Generations:  29%|██▉       | 87/295 [23:25<55:48, 16.10s/it]"
          ]
        },
        {
          "output_type": "stream",
          "name": "stdout",
          "text": [
            "    -> Best Model Test Accuracy: 70.62%\n",
            "\n",
            "[Gen 88/295] Best Fitness: -1.0173, Pop Avg Fitness: -1.0629\n"
          ]
        },
        {
          "output_type": "stream",
          "name": "stderr",
          "text": [
            "\rEA Generations:  30%|██▉       | 88/295 [23:42<55:56, 16.22s/it]"
          ]
        },
        {
          "output_type": "stream",
          "name": "stdout",
          "text": [
            "    -> Best Model Test Accuracy: 70.09%\n",
            "\n",
            "[Gen 89/295] Best Fitness: -0.9973, Pop Avg Fitness: -1.0456\n"
          ]
        },
        {
          "output_type": "stream",
          "name": "stderr",
          "text": [
            "\rEA Generations:  30%|███       | 89/295 [23:57<55:10, 16.07s/it]"
          ]
        },
        {
          "output_type": "stream",
          "name": "stdout",
          "text": [
            "    -> Best Model Test Accuracy: 70.33%\n",
            "\n",
            "[Gen 90/295] Best Fitness: -0.9664, Pop Avg Fitness: -1.0180\n"
          ]
        },
        {
          "output_type": "stream",
          "name": "stderr",
          "text": [
            "\rEA Generations:  31%|███       | 90/295 [24:13<54:29, 15.95s/it]"
          ]
        },
        {
          "output_type": "stream",
          "name": "stdout",
          "text": [
            "    -> Best Model Test Accuracy: 69.72%\n",
            "\n",
            "[Gen 91/295] Best Fitness: -0.9665, Pop Avg Fitness: -1.0190\n"
          ]
        },
        {
          "output_type": "stream",
          "name": "stderr",
          "text": [
            "\rEA Generations:  31%|███       | 91/295 [24:30<55:03, 16.19s/it]"
          ]
        },
        {
          "output_type": "stream",
          "name": "stdout",
          "text": [
            "    -> Best Model Test Accuracy: 72.16%\n",
            "\n",
            "[Gen 92/295] Best Fitness: -1.0144, Pop Avg Fitness: -1.0669\n"
          ]
        },
        {
          "output_type": "stream",
          "name": "stderr",
          "text": [
            "\rEA Generations:  31%|███       | 92/295 [24:46<54:28, 16.10s/it]"
          ]
        },
        {
          "output_type": "stream",
          "name": "stdout",
          "text": [
            "    -> Best Model Test Accuracy: 69.66%\n",
            "\n",
            "[Gen 93/295] Best Fitness: -0.9763, Pop Avg Fitness: -1.0369\n"
          ]
        },
        {
          "output_type": "stream",
          "name": "stderr",
          "text": [
            "\rEA Generations:  32%|███▏      | 93/295 [25:02<53:56, 16.02s/it]"
          ]
        },
        {
          "output_type": "stream",
          "name": "stdout",
          "text": [
            "    -> Best Model Test Accuracy: 72.26%\n",
            "\n",
            "[Gen 94/295] Best Fitness: -0.9442, Pop Avg Fitness: -0.9992\n"
          ]
        },
        {
          "output_type": "stream",
          "name": "stderr",
          "text": [
            "\rEA Generations:  32%|███▏      | 94/295 [25:18<54:15, 16.20s/it]"
          ]
        },
        {
          "output_type": "stream",
          "name": "stdout",
          "text": [
            "    -> Best Model Test Accuracy: 71.93%\n",
            "\n",
            "[Gen 95/295] Best Fitness: -0.9361, Pop Avg Fitness: -0.9904\n"
          ]
        },
        {
          "output_type": "stream",
          "name": "stderr",
          "text": [
            "\rEA Generations:  32%|███▏      | 95/295 [25:34<53:43, 16.12s/it]"
          ]
        },
        {
          "output_type": "stream",
          "name": "stdout",
          "text": [
            "    -> Best Model Test Accuracy: 72.77%\n",
            "\n",
            "[Gen 96/295] Best Fitness: -0.9162, Pop Avg Fitness: -0.9699\n"
          ]
        },
        {
          "output_type": "stream",
          "name": "stderr",
          "text": [
            "\rEA Generations:  33%|███▎      | 96/295 [25:50<53:11, 16.04s/it]"
          ]
        },
        {
          "output_type": "stream",
          "name": "stdout",
          "text": [
            "    -> Best Model Test Accuracy: 71.45%\n",
            "\n",
            "[Gen 97/295] Best Fitness: -0.9218, Pop Avg Fitness: -0.9598\n"
          ]
        },
        {
          "output_type": "stream",
          "name": "stderr",
          "text": [
            "\rEA Generations:  33%|███▎      | 97/295 [26:07<53:49, 16.31s/it]"
          ]
        },
        {
          "output_type": "stream",
          "name": "stdout",
          "text": [
            "    -> Best Model Test Accuracy: 72.74%\n",
            "\n",
            "[Gen 98/295] Best Fitness: -0.8990, Pop Avg Fitness: -0.9540\n"
          ]
        },
        {
          "output_type": "stream",
          "name": "stderr",
          "text": [
            "\rEA Generations:  33%|███▎      | 98/295 [26:23<53:14, 16.22s/it]"
          ]
        },
        {
          "output_type": "stream",
          "name": "stdout",
          "text": [
            "    -> Best Model Test Accuracy: 71.86%\n",
            "\n",
            "[Gen 99/295] Best Fitness: -0.8720, Pop Avg Fitness: -0.9275\n"
          ]
        },
        {
          "output_type": "stream",
          "name": "stderr",
          "text": [
            "\rEA Generations:  34%|███▎      | 99/295 [26:39<52:44, 16.15s/it]"
          ]
        },
        {
          "output_type": "stream",
          "name": "stdout",
          "text": [
            "    -> Best Model Test Accuracy: 73.90%\n",
            "\n",
            "[Gen 100/295] Best Fitness: -0.8695, Pop Avg Fitness: -0.9124\n"
          ]
        },
        {
          "output_type": "stream",
          "name": "stderr",
          "text": [
            "\rEA Generations:  34%|███▍      | 100/295 [26:56<53:09, 16.36s/it]"
          ]
        },
        {
          "output_type": "stream",
          "name": "stdout",
          "text": [
            "    -> Best Model Test Accuracy: 73.54%\n",
            "\n",
            "[Gen 101/295] Best Fitness: -0.8515, Pop Avg Fitness: -0.9031\n"
          ]
        },
        {
          "output_type": "stream",
          "name": "stderr",
          "text": [
            "\rEA Generations:  34%|███▍      | 101/295 [27:12<52:28, 16.23s/it]"
          ]
        },
        {
          "output_type": "stream",
          "name": "stdout",
          "text": [
            "    -> Best Model Test Accuracy: 72.89%\n",
            "\n",
            "[Gen 102/295] Best Fitness: -0.8844, Pop Avg Fitness: -0.9295\n"
          ]
        },
        {
          "output_type": "stream",
          "name": "stderr",
          "text": [
            "\rEA Generations:  35%|███▍      | 102/295 [27:28<51:59, 16.17s/it]"
          ]
        },
        {
          "output_type": "stream",
          "name": "stdout",
          "text": [
            "    -> Best Model Test Accuracy: 73.87%\n",
            "\n",
            "[Gen 103/295] Best Fitness: -0.8561, Pop Avg Fitness: -0.9062\n"
          ]
        },
        {
          "output_type": "stream",
          "name": "stderr",
          "text": [
            "\rEA Generations:  35%|███▍      | 103/295 [27:44<51:43, 16.16s/it]"
          ]
        },
        {
          "output_type": "stream",
          "name": "stdout",
          "text": [
            "    -> Best Model Test Accuracy: 74.47%\n",
            "\n",
            "[Gen 104/295] Best Fitness: -0.8258, Pop Avg Fitness: -0.8767\n"
          ]
        },
        {
          "output_type": "stream",
          "name": "stderr",
          "text": [
            "\rEA Generations:  35%|███▌      | 104/295 [28:00<51:27, 16.16s/it]"
          ]
        },
        {
          "output_type": "stream",
          "name": "stdout",
          "text": [
            "    -> Best Model Test Accuracy: 74.55%\n",
            "\n",
            "[Gen 105/295] Best Fitness: -0.8460, Pop Avg Fitness: -0.8895\n"
          ]
        },
        {
          "output_type": "stream",
          "name": "stderr",
          "text": [
            "\rEA Generations:  36%|███▌      | 105/295 [28:16<50:46, 16.03s/it]"
          ]
        },
        {
          "output_type": "stream",
          "name": "stdout",
          "text": [
            "    -> Best Model Test Accuracy: 76.08%\n",
            "\n",
            "[Gen 106/295] Best Fitness: -0.8399, Pop Avg Fitness: -0.8781\n"
          ]
        },
        {
          "output_type": "stream",
          "name": "stderr",
          "text": [
            "\rEA Generations:  36%|███▌      | 106/295 [28:32<50:53, 16.16s/it]"
          ]
        },
        {
          "output_type": "stream",
          "name": "stdout",
          "text": [
            "    -> Best Model Test Accuracy: 74.50%\n",
            "\n",
            "[Gen 107/295] Best Fitness: -0.8241, Pop Avg Fitness: -0.8619\n"
          ]
        },
        {
          "output_type": "stream",
          "name": "stderr",
          "text": [
            "\rEA Generations:  36%|███▋      | 107/295 [28:48<50:42, 16.18s/it]"
          ]
        },
        {
          "output_type": "stream",
          "name": "stdout",
          "text": [
            "    -> Best Model Test Accuracy: 74.46%\n",
            "\n",
            "[Gen 108/295] Best Fitness: -0.8475, Pop Avg Fitness: -0.8862\n"
          ]
        },
        {
          "output_type": "stream",
          "name": "stderr",
          "text": [
            "\rEA Generations:  37%|███▋      | 108/295 [29:04<50:10, 16.10s/it]"
          ]
        },
        {
          "output_type": "stream",
          "name": "stdout",
          "text": [
            "    -> Best Model Test Accuracy: 76.51%\n",
            "\n",
            "[Gen 109/295] Best Fitness: -0.8127, Pop Avg Fitness: -0.8504\n"
          ]
        },
        {
          "output_type": "stream",
          "name": "stderr",
          "text": [
            "\rEA Generations:  37%|███▋      | 109/295 [29:20<49:54, 16.10s/it]"
          ]
        },
        {
          "output_type": "stream",
          "name": "stdout",
          "text": [
            "    -> Best Model Test Accuracy: 76.17%\n",
            "\n",
            "[Gen 110/295] Best Fitness: -0.7834, Pop Avg Fitness: -0.8222\n"
          ]
        },
        {
          "output_type": "stream",
          "name": "stderr",
          "text": [
            "\rEA Generations:  37%|███▋      | 110/295 [29:37<49:58, 16.21s/it]"
          ]
        },
        {
          "output_type": "stream",
          "name": "stdout",
          "text": [
            "    -> Best Model Test Accuracy: 76.26%\n",
            "\n",
            "[Gen 111/295] Best Fitness: -0.8077, Pop Avg Fitness: -0.8444\n"
          ]
        },
        {
          "output_type": "stream",
          "name": "stderr",
          "text": [
            "\rEA Generations:  38%|███▊      | 111/295 [29:53<49:26, 16.12s/it]"
          ]
        },
        {
          "output_type": "stream",
          "name": "stdout",
          "text": [
            "    -> Best Model Test Accuracy: 76.46%\n",
            "\n",
            "[Gen 112/295] Best Fitness: -0.7633, Pop Avg Fitness: -0.8065\n"
          ]
        },
        {
          "output_type": "stream",
          "name": "stderr",
          "text": [
            "\rEA Generations:  38%|███▊      | 112/295 [30:09<49:38, 16.28s/it]"
          ]
        },
        {
          "output_type": "stream",
          "name": "stdout",
          "text": [
            "    -> Best Model Test Accuracy: 76.52%\n",
            "\n",
            "[Gen 113/295] Best Fitness: -0.7961, Pop Avg Fitness: -0.8413\n"
          ]
        },
        {
          "output_type": "stream",
          "name": "stderr",
          "text": [
            "\rEA Generations:  38%|███▊      | 113/295 [30:26<49:27, 16.31s/it]"
          ]
        },
        {
          "output_type": "stream",
          "name": "stdout",
          "text": [
            "    -> Best Model Test Accuracy: 76.68%\n",
            "\n",
            "[Gen 114/295] Best Fitness: -0.7492, Pop Avg Fitness: -0.7890\n"
          ]
        },
        {
          "output_type": "stream",
          "name": "stderr",
          "text": [
            "\rEA Generations:  39%|███▊      | 114/295 [30:42<48:50, 16.19s/it]"
          ]
        },
        {
          "output_type": "stream",
          "name": "stdout",
          "text": [
            "    -> Best Model Test Accuracy: 76.94%\n",
            "\n",
            "[Gen 115/295] Best Fitness: -0.7754, Pop Avg Fitness: -0.8069\n"
          ]
        },
        {
          "output_type": "stream",
          "name": "stderr",
          "text": [
            "\rEA Generations:  39%|███▉      | 115/295 [30:57<48:07, 16.04s/it]"
          ]
        },
        {
          "output_type": "stream",
          "name": "stdout",
          "text": [
            "    -> Best Model Test Accuracy: 77.43%\n",
            "\n",
            "[Gen 116/295] Best Fitness: -0.7547, Pop Avg Fitness: -0.7908\n"
          ]
        },
        {
          "output_type": "stream",
          "name": "stderr",
          "text": [
            "\rEA Generations:  39%|███▉      | 116/295 [31:14<48:08, 16.14s/it]"
          ]
        },
        {
          "output_type": "stream",
          "name": "stdout",
          "text": [
            "    -> Best Model Test Accuracy: 76.62%\n",
            "\n",
            "[Gen 117/295] Best Fitness: -0.7628, Pop Avg Fitness: -0.7994\n"
          ]
        },
        {
          "output_type": "stream",
          "name": "stderr",
          "text": [
            "\rEA Generations:  40%|███▉      | 117/295 [31:30<47:43, 16.09s/it]"
          ]
        },
        {
          "output_type": "stream",
          "name": "stdout",
          "text": [
            "    -> Best Model Test Accuracy: 78.23%\n",
            "\n",
            "[Gen 118/295] Best Fitness: -0.7969, Pop Avg Fitness: -0.8327\n"
          ]
        },
        {
          "output_type": "stream",
          "name": "stderr",
          "text": [
            "\rEA Generations:  40%|████      | 118/295 [31:46<47:43, 16.18s/it]"
          ]
        },
        {
          "output_type": "stream",
          "name": "stdout",
          "text": [
            "    -> Best Model Test Accuracy: 77.64%\n",
            "\n",
            "[Gen 119/295] Best Fitness: -0.7386, Pop Avg Fitness: -0.7780\n"
          ]
        },
        {
          "output_type": "stream",
          "name": "stderr",
          "text": [
            "\rEA Generations:  40%|████      | 119/295 [32:03<47:50, 16.31s/it]"
          ]
        },
        {
          "output_type": "stream",
          "name": "stdout",
          "text": [
            "    -> Best Model Test Accuracy: 77.54%\n",
            "\n",
            "[Gen 120/295] Best Fitness: -0.7431, Pop Avg Fitness: -0.7730\n"
          ]
        },
        {
          "output_type": "stream",
          "name": "stderr",
          "text": [
            "\rEA Generations:  41%|████      | 120/295 [32:19<47:19, 16.22s/it]"
          ]
        },
        {
          "output_type": "stream",
          "name": "stdout",
          "text": [
            "    -> Best Model Test Accuracy: 77.05%\n",
            "\n",
            "[Gen 121/295] Best Fitness: -0.7347, Pop Avg Fitness: -0.7685\n"
          ]
        },
        {
          "output_type": "stream",
          "name": "stderr",
          "text": [
            "\rEA Generations:  41%|████      | 121/295 [32:35<46:46, 16.13s/it]"
          ]
        },
        {
          "output_type": "stream",
          "name": "stdout",
          "text": [
            "    -> Best Model Test Accuracy: 78.81%\n",
            "\n",
            "[Gen 122/295] Best Fitness: -0.7132, Pop Avg Fitness: -0.7453\n"
          ]
        },
        {
          "output_type": "stream",
          "name": "stderr",
          "text": [
            "\rEA Generations:  41%|████▏     | 122/295 [32:51<46:56, 16.28s/it]"
          ]
        },
        {
          "output_type": "stream",
          "name": "stdout",
          "text": [
            "    -> Best Model Test Accuracy: 78.42%\n",
            "\n",
            "[Gen 123/295] Best Fitness: -0.7413, Pop Avg Fitness: -0.7697\n"
          ]
        },
        {
          "output_type": "stream",
          "name": "stderr",
          "text": [
            "\rEA Generations:  42%|████▏     | 123/295 [33:07<46:19, 16.16s/it]"
          ]
        },
        {
          "output_type": "stream",
          "name": "stdout",
          "text": [
            "    -> Best Model Test Accuracy: 77.48%\n",
            "\n",
            "[Gen 124/295] Best Fitness: -0.7359, Pop Avg Fitness: -0.7634\n"
          ]
        },
        {
          "output_type": "stream",
          "name": "stderr",
          "text": [
            "\rEA Generations:  42%|████▏     | 124/295 [33:23<45:53, 16.11s/it]"
          ]
        },
        {
          "output_type": "stream",
          "name": "stdout",
          "text": [
            "    -> Best Model Test Accuracy: 78.46%\n",
            "\n",
            "[Gen 125/295] Best Fitness: -0.7355, Pop Avg Fitness: -0.7694\n"
          ]
        },
        {
          "output_type": "stream",
          "name": "stderr",
          "text": [
            "\rEA Generations:  42%|████▏     | 125/295 [33:40<46:03, 16.26s/it]"
          ]
        },
        {
          "output_type": "stream",
          "name": "stdout",
          "text": [
            "    -> Best Model Test Accuracy: 79.60%\n",
            "\n",
            "[Gen 126/295] Best Fitness: -0.6922, Pop Avg Fitness: -0.7256\n"
          ]
        },
        {
          "output_type": "stream",
          "name": "stderr",
          "text": [
            "\rEA Generations:  43%|████▎     | 126/295 [33:56<45:28, 16.14s/it]"
          ]
        },
        {
          "output_type": "stream",
          "name": "stdout",
          "text": [
            "    -> Best Model Test Accuracy: 79.75%\n",
            "\n",
            "[Gen 127/295] Best Fitness: -0.7226, Pop Avg Fitness: -0.7540\n"
          ]
        },
        {
          "output_type": "stream",
          "name": "stderr",
          "text": [
            "\rEA Generations:  43%|████▎     | 127/295 [34:12<45:05, 16.11s/it]"
          ]
        },
        {
          "output_type": "stream",
          "name": "stdout",
          "text": [
            "    -> Best Model Test Accuracy: 78.86%\n",
            "\n",
            "[Gen 128/295] Best Fitness: -0.7207, Pop Avg Fitness: -0.7584\n"
          ]
        },
        {
          "output_type": "stream",
          "name": "stderr",
          "text": [
            "\rEA Generations:  43%|████▎     | 128/295 [34:28<45:12, 16.24s/it]"
          ]
        },
        {
          "output_type": "stream",
          "name": "stdout",
          "text": [
            "    -> Best Model Test Accuracy: 79.07%\n",
            "\n",
            "[Gen 129/295] Best Fitness: -0.7268, Pop Avg Fitness: -0.7624\n"
          ]
        },
        {
          "output_type": "stream",
          "name": "stderr",
          "text": [
            "\rEA Generations:  44%|████▎     | 129/295 [34:44<44:36, 16.12s/it]"
          ]
        },
        {
          "output_type": "stream",
          "name": "stdout",
          "text": [
            "    -> Best Model Test Accuracy: 79.45%\n",
            "\n",
            "[Gen 130/295] Best Fitness: -0.7207, Pop Avg Fitness: -0.7498\n"
          ]
        },
        {
          "output_type": "stream",
          "name": "stderr",
          "text": [
            "\rEA Generations:  44%|████▍     | 130/295 [35:00<44:07, 16.05s/it]"
          ]
        },
        {
          "output_type": "stream",
          "name": "stdout",
          "text": [
            "    -> Best Model Test Accuracy: 79.35%\n",
            "\n",
            "[Gen 131/295] Best Fitness: -0.7126, Pop Avg Fitness: -0.7570\n"
          ]
        },
        {
          "output_type": "stream",
          "name": "stderr",
          "text": [
            "\rEA Generations:  44%|████▍     | 131/295 [35:17<44:19, 16.22s/it]"
          ]
        },
        {
          "output_type": "stream",
          "name": "stdout",
          "text": [
            "    -> Best Model Test Accuracy: 80.18%\n",
            "\n",
            "[Gen 132/295] Best Fitness: -0.7000, Pop Avg Fitness: -0.7350\n"
          ]
        },
        {
          "output_type": "stream",
          "name": "stderr",
          "text": [
            "\rEA Generations:  45%|████▍     | 132/295 [35:32<43:47, 16.12s/it]"
          ]
        },
        {
          "output_type": "stream",
          "name": "stdout",
          "text": [
            "    -> Best Model Test Accuracy: 79.61%\n",
            "\n",
            "[Gen 133/295] Best Fitness: -0.7127, Pop Avg Fitness: -0.7480\n"
          ]
        },
        {
          "output_type": "stream",
          "name": "stderr",
          "text": [
            "\rEA Generations:  45%|████▌     | 133/295 [35:49<43:35, 16.15s/it]"
          ]
        },
        {
          "output_type": "stream",
          "name": "stdout",
          "text": [
            "    -> Best Model Test Accuracy: 79.72%\n",
            "\n",
            "[Gen 134/295] Best Fitness: -0.6703, Pop Avg Fitness: -0.7048\n"
          ]
        },
        {
          "output_type": "stream",
          "name": "stderr",
          "text": [
            "\rEA Generations:  45%|████▌     | 134/295 [36:05<43:34, 16.24s/it]"
          ]
        },
        {
          "output_type": "stream",
          "name": "stdout",
          "text": [
            "    -> Best Model Test Accuracy: 80.11%\n",
            "\n",
            "[Gen 135/295] Best Fitness: -0.6432, Pop Avg Fitness: -0.6746\n"
          ]
        },
        {
          "output_type": "stream",
          "name": "stderr",
          "text": [
            "\rEA Generations:  46%|████▌     | 135/295 [36:21<42:54, 16.09s/it]"
          ]
        },
        {
          "output_type": "stream",
          "name": "stdout",
          "text": [
            "    -> Best Model Test Accuracy: 80.66%\n",
            "\n",
            "[Gen 136/295] Best Fitness: -0.6521, Pop Avg Fitness: -0.6949\n"
          ]
        },
        {
          "output_type": "stream",
          "name": "stderr",
          "text": [
            "\rEA Generations:  46%|████▌     | 136/295 [36:37<42:18, 15.97s/it]"
          ]
        },
        {
          "output_type": "stream",
          "name": "stdout",
          "text": [
            "    -> Best Model Test Accuracy: 80.72%\n",
            "\n",
            "[Gen 137/295] Best Fitness: -0.6794, Pop Avg Fitness: -0.7087\n"
          ]
        },
        {
          "output_type": "stream",
          "name": "stderr",
          "text": [
            "\rEA Generations:  46%|████▋     | 137/295 [36:53<42:19, 16.07s/it]"
          ]
        },
        {
          "output_type": "stream",
          "name": "stdout",
          "text": [
            "    -> Best Model Test Accuracy: 80.90%\n",
            "\n",
            "[Gen 138/295] Best Fitness: -0.6290, Pop Avg Fitness: -0.6609\n"
          ]
        },
        {
          "output_type": "stream",
          "name": "stderr",
          "text": [
            "\rEA Generations:  47%|████▋     | 138/295 [37:09<41:46, 15.96s/it]"
          ]
        },
        {
          "output_type": "stream",
          "name": "stdout",
          "text": [
            "    -> Best Model Test Accuracy: 81.21%\n",
            "\n",
            "[Gen 139/295] Best Fitness: -0.6688, Pop Avg Fitness: -0.6953\n"
          ]
        },
        {
          "output_type": "stream",
          "name": "stderr",
          "text": [
            "\rEA Generations:  47%|████▋     | 139/295 [37:25<41:44, 16.05s/it]"
          ]
        },
        {
          "output_type": "stream",
          "name": "stdout",
          "text": [
            "    -> Best Model Test Accuracy: 81.63%\n",
            "\n",
            "[Gen 140/295] Best Fitness: -0.6509, Pop Avg Fitness: -0.6872\n"
          ]
        },
        {
          "output_type": "stream",
          "name": "stderr",
          "text": [
            "\rEA Generations:  47%|████▋     | 140/295 [37:41<41:44, 16.16s/it]"
          ]
        },
        {
          "output_type": "stream",
          "name": "stdout",
          "text": [
            "    -> Best Model Test Accuracy: 81.17%\n",
            "\n",
            "[Gen 141/295] Best Fitness: -0.6314, Pop Avg Fitness: -0.6592\n"
          ]
        },
        {
          "output_type": "stream",
          "name": "stderr",
          "text": [
            "\rEA Generations:  48%|████▊     | 141/295 [37:57<41:09, 16.04s/it]"
          ]
        },
        {
          "output_type": "stream",
          "name": "stdout",
          "text": [
            "    -> Best Model Test Accuracy: 81.36%\n",
            "\n",
            "[Gen 142/295] Best Fitness: -0.5903, Pop Avg Fitness: -0.6264\n"
          ]
        },
        {
          "output_type": "stream",
          "name": "stderr",
          "text": [
            "\rEA Generations:  48%|████▊     | 142/295 [38:13<40:36, 15.92s/it]"
          ]
        },
        {
          "output_type": "stream",
          "name": "stdout",
          "text": [
            "    -> Best Model Test Accuracy: 81.51%\n",
            "\n",
            "[Gen 143/295] Best Fitness: -0.5913, Pop Avg Fitness: -0.6231\n"
          ]
        },
        {
          "output_type": "stream",
          "name": "stderr",
          "text": [
            "\rEA Generations:  48%|████▊     | 143/295 [38:29<40:23, 15.95s/it]"
          ]
        },
        {
          "output_type": "stream",
          "name": "stdout",
          "text": [
            "    -> Best Model Test Accuracy: 82.15%\n",
            "\n",
            "[Gen 144/295] Best Fitness: -0.6195, Pop Avg Fitness: -0.6531\n"
          ]
        },
        {
          "output_type": "stream",
          "name": "stderr",
          "text": [
            "\rEA Generations:  49%|████▉     | 144/295 [38:45<40:15, 16.00s/it]"
          ]
        },
        {
          "output_type": "stream",
          "name": "stdout",
          "text": [
            "    -> Best Model Test Accuracy: 82.12%\n",
            "\n",
            "[Gen 145/295] Best Fitness: -0.6062, Pop Avg Fitness: -0.6373\n"
          ]
        },
        {
          "output_type": "stream",
          "name": "stderr",
          "text": [
            "\rEA Generations:  49%|████▉     | 145/295 [39:00<39:46, 15.91s/it]"
          ]
        },
        {
          "output_type": "stream",
          "name": "stdout",
          "text": [
            "    -> Best Model Test Accuracy: 81.64%\n",
            "\n",
            "[Gen 146/295] Best Fitness: -0.6548, Pop Avg Fitness: -0.6849\n"
          ]
        },
        {
          "output_type": "stream",
          "name": "stderr",
          "text": [
            "\rEA Generations:  49%|████▉     | 146/295 [39:16<39:19, 15.83s/it]"
          ]
        },
        {
          "output_type": "stream",
          "name": "stdout",
          "text": [
            "    -> Best Model Test Accuracy: 81.97%\n",
            "\n",
            "[Gen 147/295] Best Fitness: -0.5881, Pop Avg Fitness: -0.6128\n"
          ]
        },
        {
          "output_type": "stream",
          "name": "stderr",
          "text": [
            "\rEA Generations:  50%|████▉     | 147/295 [39:33<39:38, 16.07s/it]"
          ]
        },
        {
          "output_type": "stream",
          "name": "stdout",
          "text": [
            "    -> Best Model Test Accuracy: 82.44%\n",
            "\n",
            "[Gen 148/295] Best Fitness: -0.5897, Pop Avg Fitness: -0.6131\n"
          ]
        },
        {
          "output_type": "stream",
          "name": "stderr",
          "text": [
            "\rEA Generations:  50%|█████     | 148/295 [39:49<39:20, 16.06s/it]"
          ]
        },
        {
          "output_type": "stream",
          "name": "stdout",
          "text": [
            "    -> Best Model Test Accuracy: 81.74%\n",
            "\n",
            "[Gen 149/295] Best Fitness: -0.5818, Pop Avg Fitness: -0.6097\n"
          ]
        },
        {
          "output_type": "stream",
          "name": "stderr",
          "text": [
            "\rEA Generations:  51%|█████     | 149/295 [40:05<38:57, 16.01s/it]"
          ]
        },
        {
          "output_type": "stream",
          "name": "stdout",
          "text": [
            "    -> Best Model Test Accuracy: 82.36%\n",
            "\n",
            "[Gen 150/295] Best Fitness: -0.5935, Pop Avg Fitness: -0.6247\n"
          ]
        },
        {
          "output_type": "stream",
          "name": "stderr",
          "text": [
            "\rEA Generations:  51%|█████     | 150/295 [40:21<39:07, 16.19s/it]"
          ]
        },
        {
          "output_type": "stream",
          "name": "stdout",
          "text": [
            "    -> Best Model Test Accuracy: 83.08%\n",
            "\n",
            "[Gen 151/295] Best Fitness: -0.6426, Pop Avg Fitness: -0.6785\n"
          ]
        },
        {
          "output_type": "stream",
          "name": "stderr",
          "text": [
            "\rEA Generations:  51%|█████     | 151/295 [40:37<38:41, 16.12s/it]"
          ]
        },
        {
          "output_type": "stream",
          "name": "stdout",
          "text": [
            "    -> Best Model Test Accuracy: 82.79%\n",
            "\n",
            "[Gen 152/295] Best Fitness: -0.5969, Pop Avg Fitness: -0.6263\n"
          ]
        },
        {
          "output_type": "stream",
          "name": "stderr",
          "text": [
            "\rEA Generations:  52%|█████▏    | 152/295 [40:53<38:05, 15.98s/it]"
          ]
        },
        {
          "output_type": "stream",
          "name": "stdout",
          "text": [
            "    -> Best Model Test Accuracy: 82.93%\n",
            "\n",
            "[Gen 153/295] Best Fitness: -0.5783, Pop Avg Fitness: -0.6056\n"
          ]
        },
        {
          "output_type": "stream",
          "name": "stderr",
          "text": [
            "\rEA Generations:  52%|█████▏    | 153/295 [41:09<38:09, 16.12s/it]"
          ]
        },
        {
          "output_type": "stream",
          "name": "stdout",
          "text": [
            "    -> Best Model Test Accuracy: 83.18%\n",
            "\n",
            "[Gen 154/295] Best Fitness: -0.5779, Pop Avg Fitness: -0.6057\n"
          ]
        },
        {
          "output_type": "stream",
          "name": "stderr",
          "text": [
            "\rEA Generations:  52%|█████▏    | 154/295 [41:26<38:03, 16.19s/it]"
          ]
        },
        {
          "output_type": "stream",
          "name": "stdout",
          "text": [
            "    -> Best Model Test Accuracy: 82.86%\n",
            "\n",
            "[Gen 155/295] Best Fitness: -0.5446, Pop Avg Fitness: -0.5729\n"
          ]
        },
        {
          "output_type": "stream",
          "name": "stderr",
          "text": [
            "\rEA Generations:  53%|█████▎    | 155/295 [41:41<37:25, 16.04s/it]"
          ]
        },
        {
          "output_type": "stream",
          "name": "stdout",
          "text": [
            "    -> Best Model Test Accuracy: 83.17%\n",
            "\n",
            "[Gen 156/295] Best Fitness: -0.5821, Pop Avg Fitness: -0.6091\n"
          ]
        },
        {
          "output_type": "stream",
          "name": "stderr",
          "text": [
            "\rEA Generations:  53%|█████▎    | 156/295 [41:58<37:30, 16.19s/it]"
          ]
        },
        {
          "output_type": "stream",
          "name": "stdout",
          "text": [
            "    -> Best Model Test Accuracy: 83.35%\n",
            "\n",
            "[Gen 157/295] Best Fitness: -0.5639, Pop Avg Fitness: -0.5870\n"
          ]
        },
        {
          "output_type": "stream",
          "name": "stderr",
          "text": [
            "\rEA Generations:  53%|█████▎    | 157/295 [42:14<37:03, 16.11s/it]"
          ]
        },
        {
          "output_type": "stream",
          "name": "stdout",
          "text": [
            "    -> Best Model Test Accuracy: 83.26%\n",
            "\n",
            "[Gen 158/295] Best Fitness: -0.5303, Pop Avg Fitness: -0.5592\n"
          ]
        },
        {
          "output_type": "stream",
          "name": "stderr",
          "text": [
            "\rEA Generations:  54%|█████▎    | 158/295 [42:30<36:38, 16.05s/it]"
          ]
        },
        {
          "output_type": "stream",
          "name": "stdout",
          "text": [
            "    -> Best Model Test Accuracy: 83.08%\n",
            "\n",
            "[Gen 159/295] Best Fitness: -0.5507, Pop Avg Fitness: -0.5770\n"
          ]
        },
        {
          "output_type": "stream",
          "name": "stderr",
          "text": [
            "\rEA Generations:  54%|█████▍    | 159/295 [42:46<36:45, 16.22s/it]"
          ]
        },
        {
          "output_type": "stream",
          "name": "stdout",
          "text": [
            "    -> Best Model Test Accuracy: 83.10%\n",
            "\n",
            "[Gen 160/295] Best Fitness: -0.5266, Pop Avg Fitness: -0.5507\n"
          ]
        },
        {
          "output_type": "stream",
          "name": "stderr",
          "text": [
            "\rEA Generations:  54%|█████▍    | 160/295 [43:03<36:30, 16.22s/it]"
          ]
        },
        {
          "output_type": "stream",
          "name": "stdout",
          "text": [
            "    -> Best Model Test Accuracy: 83.77%\n",
            "\n",
            "[Gen 161/295] Best Fitness: -0.5682, Pop Avg Fitness: -0.5971\n"
          ]
        },
        {
          "output_type": "stream",
          "name": "stderr",
          "text": [
            "\rEA Generations:  55%|█████▍    | 161/295 [43:19<36:01, 16.13s/it]"
          ]
        },
        {
          "output_type": "stream",
          "name": "stdout",
          "text": [
            "    -> Best Model Test Accuracy: 83.57%\n",
            "\n",
            "[Gen 162/295] Best Fitness: -0.5613, Pop Avg Fitness: -0.5953\n"
          ]
        },
        {
          "output_type": "stream",
          "name": "stderr",
          "text": [
            "\rEA Generations:  55%|█████▍    | 162/295 [43:35<36:01, 16.26s/it]"
          ]
        },
        {
          "output_type": "stream",
          "name": "stdout",
          "text": [
            "    -> Best Model Test Accuracy: 83.66%\n",
            "\n",
            "[Gen 163/295] Best Fitness: -0.5143, Pop Avg Fitness: -0.5393\n"
          ]
        },
        {
          "output_type": "stream",
          "name": "stderr",
          "text": [
            "\rEA Generations:  55%|█████▌    | 163/295 [43:51<35:27, 16.12s/it]"
          ]
        },
        {
          "output_type": "stream",
          "name": "stdout",
          "text": [
            "    -> Best Model Test Accuracy: 83.88%\n",
            "\n",
            "[Gen 164/295] Best Fitness: -0.5313, Pop Avg Fitness: -0.5542\n"
          ]
        },
        {
          "output_type": "stream",
          "name": "stderr",
          "text": [
            "\rEA Generations:  56%|█████▌    | 164/295 [44:07<34:53, 15.98s/it]"
          ]
        },
        {
          "output_type": "stream",
          "name": "stdout",
          "text": [
            "    -> Best Model Test Accuracy: 84.11%\n",
            "\n",
            "[Gen 165/295] Best Fitness: -0.5536, Pop Avg Fitness: -0.5803\n"
          ]
        },
        {
          "output_type": "stream",
          "name": "stderr",
          "text": [
            "\rEA Generations:  56%|█████▌    | 165/295 [44:23<34:56, 16.12s/it]"
          ]
        },
        {
          "output_type": "stream",
          "name": "stdout",
          "text": [
            "    -> Best Model Test Accuracy: 83.91%\n",
            "\n",
            "[Gen 166/295] Best Fitness: -0.5411, Pop Avg Fitness: -0.5674\n"
          ]
        },
        {
          "output_type": "stream",
          "name": "stderr",
          "text": [
            "\rEA Generations:  56%|█████▋    | 166/295 [44:39<34:34, 16.08s/it]"
          ]
        },
        {
          "output_type": "stream",
          "name": "stdout",
          "text": [
            "    -> Best Model Test Accuracy: 84.17%\n",
            "\n",
            "[Gen 167/295] Best Fitness: -0.5864, Pop Avg Fitness: -0.6159\n"
          ]
        },
        {
          "output_type": "stream",
          "name": "stderr",
          "text": [
            "\rEA Generations:  57%|█████▋    | 167/295 [44:55<34:02, 15.96s/it]"
          ]
        },
        {
          "output_type": "stream",
          "name": "stdout",
          "text": [
            "    -> Best Model Test Accuracy: 84.08%\n",
            "\n",
            "[Gen 168/295] Best Fitness: -0.5466, Pop Avg Fitness: -0.5677\n"
          ]
        },
        {
          "output_type": "stream",
          "name": "stderr",
          "text": [
            "\rEA Generations:  57%|█████▋    | 168/295 [45:11<33:55, 16.03s/it]"
          ]
        },
        {
          "output_type": "stream",
          "name": "stdout",
          "text": [
            "    -> Best Model Test Accuracy: 83.88%\n",
            "\n",
            "[Gen 169/295] Best Fitness: -0.5146, Pop Avg Fitness: -0.5395\n"
          ]
        },
        {
          "output_type": "stream",
          "name": "stderr",
          "text": [
            "\rEA Generations:  57%|█████▋    | 169/295 [45:27<33:51, 16.12s/it]"
          ]
        },
        {
          "output_type": "stream",
          "name": "stdout",
          "text": [
            "    -> Best Model Test Accuracy: 84.71%\n",
            "\n",
            "[Gen 170/295] Best Fitness: -0.5497, Pop Avg Fitness: -0.5731\n"
          ]
        },
        {
          "output_type": "stream",
          "name": "stderr",
          "text": [
            "\rEA Generations:  58%|█████▊    | 170/295 [45:43<33:27, 16.06s/it]"
          ]
        },
        {
          "output_type": "stream",
          "name": "stdout",
          "text": [
            "    -> Best Model Test Accuracy: 84.73%\n",
            "\n",
            "[Gen 171/295] Best Fitness: -0.4955, Pop Avg Fitness: -0.5196\n"
          ]
        },
        {
          "output_type": "stream",
          "name": "stderr",
          "text": [
            "\rEA Generations:  58%|█████▊    | 171/295 [45:59<32:55, 15.93s/it]"
          ]
        },
        {
          "output_type": "stream",
          "name": "stdout",
          "text": [
            "    -> Best Model Test Accuracy: 84.05%\n",
            "\n",
            "[Gen 172/295] Best Fitness: -0.5604, Pop Avg Fitness: -0.5864\n"
          ]
        },
        {
          "output_type": "stream",
          "name": "stderr",
          "text": [
            "\rEA Generations:  58%|█████▊    | 172/295 [46:15<32:58, 16.09s/it]"
          ]
        },
        {
          "output_type": "stream",
          "name": "stdout",
          "text": [
            "    -> Best Model Test Accuracy: 84.47%\n",
            "\n",
            "[Gen 173/295] Best Fitness: -0.4940, Pop Avg Fitness: -0.5179\n"
          ]
        },
        {
          "output_type": "stream",
          "name": "stderr",
          "text": [
            "\rEA Generations:  59%|█████▊    | 173/295 [46:31<32:24, 15.93s/it]"
          ]
        },
        {
          "output_type": "stream",
          "name": "stdout",
          "text": [
            "    -> Best Model Test Accuracy: 84.48%\n",
            "\n",
            "[Gen 174/295] Best Fitness: -0.5294, Pop Avg Fitness: -0.5518\n"
          ]
        },
        {
          "output_type": "stream",
          "name": "stderr",
          "text": [
            "\rEA Generations:  59%|█████▉    | 174/295 [46:47<32:06, 15.92s/it]"
          ]
        },
        {
          "output_type": "stream",
          "name": "stdout",
          "text": [
            "    -> Best Model Test Accuracy: 84.80%\n",
            "\n",
            "[Gen 175/295] Best Fitness: -0.5205, Pop Avg Fitness: -0.5433\n"
          ]
        },
        {
          "output_type": "stream",
          "name": "stderr",
          "text": [
            "\rEA Generations:  59%|█████▉    | 175/295 [47:04<32:26, 16.22s/it]"
          ]
        },
        {
          "output_type": "stream",
          "name": "stdout",
          "text": [
            "    -> Best Model Test Accuracy: 84.59%\n",
            "\n",
            "[Gen 176/295] Best Fitness: -0.5484, Pop Avg Fitness: -0.5764\n"
          ]
        },
        {
          "output_type": "stream",
          "name": "stderr",
          "text": [
            "\rEA Generations:  60%|█████▉    | 176/295 [47:20<32:01, 16.15s/it]"
          ]
        },
        {
          "output_type": "stream",
          "name": "stdout",
          "text": [
            "    -> Best Model Test Accuracy: 84.63%\n",
            "\n",
            "[Gen 177/295] Best Fitness: -0.5692, Pop Avg Fitness: -0.5972\n"
          ]
        },
        {
          "output_type": "stream",
          "name": "stderr",
          "text": [
            "\rEA Generations:  60%|██████    | 177/295 [47:35<31:37, 16.08s/it]"
          ]
        },
        {
          "output_type": "stream",
          "name": "stdout",
          "text": [
            "    -> Best Model Test Accuracy: 84.43%\n",
            "\n",
            "[Gen 178/295] Best Fitness: -0.5173, Pop Avg Fitness: -0.5422\n"
          ]
        },
        {
          "output_type": "stream",
          "name": "stderr",
          "text": [
            "\rEA Generations:  60%|██████    | 178/295 [47:52<31:32, 16.17s/it]"
          ]
        },
        {
          "output_type": "stream",
          "name": "stdout",
          "text": [
            "    -> Best Model Test Accuracy: 84.76%\n",
            "\n",
            "[Gen 179/295] Best Fitness: -0.5117, Pop Avg Fitness: -0.5369\n"
          ]
        },
        {
          "output_type": "stream",
          "name": "stderr",
          "text": [
            "\rEA Generations:  61%|██████    | 179/295 [48:08<31:01, 16.04s/it]"
          ]
        },
        {
          "output_type": "stream",
          "name": "stdout",
          "text": [
            "    -> Best Model Test Accuracy: 85.08%\n",
            "\n",
            "[Gen 180/295] Best Fitness: -0.5385, Pop Avg Fitness: -0.5620\n"
          ]
        },
        {
          "output_type": "stream",
          "name": "stderr",
          "text": [
            "\rEA Generations:  61%|██████    | 180/295 [48:23<30:39, 15.99s/it]"
          ]
        },
        {
          "output_type": "stream",
          "name": "stdout",
          "text": [
            "    -> Best Model Test Accuracy: 84.83%\n",
            "\n",
            "[Gen 181/295] Best Fitness: -0.4829, Pop Avg Fitness: -0.5091\n"
          ]
        },
        {
          "output_type": "stream",
          "name": "stderr",
          "text": [
            "\rEA Generations:  61%|██████▏   | 181/295 [48:40<30:57, 16.30s/it]"
          ]
        },
        {
          "output_type": "stream",
          "name": "stdout",
          "text": [
            "    -> Best Model Test Accuracy: 84.72%\n",
            "\n",
            "[Gen 182/295] Best Fitness: -0.5305, Pop Avg Fitness: -0.5583\n"
          ]
        },
        {
          "output_type": "stream",
          "name": "stderr",
          "text": [
            "\rEA Generations:  62%|██████▏   | 182/295 [48:56<30:23, 16.14s/it]"
          ]
        },
        {
          "output_type": "stream",
          "name": "stdout",
          "text": [
            "    -> Best Model Test Accuracy: 84.72%\n",
            "\n",
            "[Gen 183/295] Best Fitness: -0.5156, Pop Avg Fitness: -0.5397\n"
          ]
        },
        {
          "output_type": "stream",
          "name": "stderr",
          "text": [
            "\rEA Generations:  62%|██████▏   | 183/295 [49:12<29:58, 16.06s/it]"
          ]
        },
        {
          "output_type": "stream",
          "name": "stdout",
          "text": [
            "    -> Best Model Test Accuracy: 85.09%\n",
            "\n",
            "[Gen 184/295] Best Fitness: -0.5369, Pop Avg Fitness: -0.5708\n"
          ]
        },
        {
          "output_type": "stream",
          "name": "stderr",
          "text": [
            "\rEA Generations:  62%|██████▏   | 184/295 [49:29<29:59, 16.21s/it]"
          ]
        },
        {
          "output_type": "stream",
          "name": "stdout",
          "text": [
            "    -> Best Model Test Accuracy: 85.26%\n",
            "\n",
            "[Gen 185/295] Best Fitness: -0.4881, Pop Avg Fitness: -0.5198\n"
          ]
        },
        {
          "output_type": "stream",
          "name": "stderr",
          "text": [
            "\rEA Generations:  63%|██████▎   | 185/295 [49:44<29:20, 16.00s/it]"
          ]
        },
        {
          "output_type": "stream",
          "name": "stdout",
          "text": [
            "    -> Best Model Test Accuracy: 85.19%\n",
            "\n",
            "[Gen 186/295] Best Fitness: -0.5391, Pop Avg Fitness: -0.5726\n"
          ]
        },
        {
          "output_type": "stream",
          "name": "stderr",
          "text": [
            "\rEA Generations:  63%|██████▎   | 186/295 [50:00<29:10, 16.06s/it]"
          ]
        },
        {
          "output_type": "stream",
          "name": "stdout",
          "text": [
            "    -> Best Model Test Accuracy: 84.83%\n",
            "\n",
            "[Gen 187/295] Best Fitness: -0.5100, Pop Avg Fitness: -0.5330\n"
          ]
        },
        {
          "output_type": "stream",
          "name": "stderr",
          "text": [
            "\rEA Generations:  63%|██████▎   | 187/295 [50:17<29:08, 16.19s/it]"
          ]
        },
        {
          "output_type": "stream",
          "name": "stdout",
          "text": [
            "    -> Best Model Test Accuracy: 85.20%\n",
            "\n",
            "[Gen 188/295] Best Fitness: -0.5476, Pop Avg Fitness: -0.5730\n"
          ]
        },
        {
          "output_type": "stream",
          "name": "stderr",
          "text": [
            "\rEA Generations:  64%|██████▎   | 188/295 [50:33<28:36, 16.04s/it]"
          ]
        },
        {
          "output_type": "stream",
          "name": "stdout",
          "text": [
            "    -> Best Model Test Accuracy: 85.34%\n",
            "\n",
            "[Gen 189/295] Best Fitness: -0.5331, Pop Avg Fitness: -0.5546\n"
          ]
        },
        {
          "output_type": "stream",
          "name": "stderr",
          "text": [
            "\rEA Generations:  64%|██████▍   | 189/295 [50:49<28:17, 16.02s/it]"
          ]
        },
        {
          "output_type": "stream",
          "name": "stdout",
          "text": [
            "    -> Best Model Test Accuracy: 85.19%\n",
            "\n",
            "[Gen 190/295] Best Fitness: -0.4952, Pop Avg Fitness: -0.5205\n"
          ]
        },
        {
          "output_type": "stream",
          "name": "stderr",
          "text": [
            "\rEA Generations:  64%|██████▍   | 190/295 [51:05<28:25, 16.24s/it]"
          ]
        },
        {
          "output_type": "stream",
          "name": "stdout",
          "text": [
            "    -> Best Model Test Accuracy: 84.60%\n",
            "\n",
            "[Gen 191/295] Best Fitness: -0.5246, Pop Avg Fitness: -0.5484\n"
          ]
        },
        {
          "output_type": "stream",
          "name": "stderr",
          "text": [
            "\rEA Generations:  65%|██████▍   | 191/295 [51:22<28:10, 16.25s/it]"
          ]
        },
        {
          "output_type": "stream",
          "name": "stdout",
          "text": [
            "    -> Best Model Test Accuracy: 85.40%\n",
            "\n",
            "[Gen 192/295] Best Fitness: -0.5322, Pop Avg Fitness: -0.5567\n"
          ]
        },
        {
          "output_type": "stream",
          "name": "stderr",
          "text": [
            "\rEA Generations:  65%|██████▌   | 192/295 [51:37<27:40, 16.13s/it]"
          ]
        },
        {
          "output_type": "stream",
          "name": "stdout",
          "text": [
            "    -> Best Model Test Accuracy: 84.87%\n",
            "\n",
            "[Gen 193/295] Best Fitness: -0.4972, Pop Avg Fitness: -0.5204\n"
          ]
        },
        {
          "output_type": "stream",
          "name": "stderr",
          "text": [
            "\rEA Generations:  65%|██████▌   | 193/295 [51:54<27:25, 16.13s/it]"
          ]
        },
        {
          "output_type": "stream",
          "name": "stdout",
          "text": [
            "    -> Best Model Test Accuracy: 85.50%\n",
            "\n",
            "[Gen 194/295] Best Fitness: -0.4802, Pop Avg Fitness: -0.5047\n"
          ]
        },
        {
          "output_type": "stream",
          "name": "stderr",
          "text": [
            "\rEA Generations:  66%|██████▌   | 194/295 [52:10<27:13, 16.18s/it]"
          ]
        },
        {
          "output_type": "stream",
          "name": "stdout",
          "text": [
            "    -> Best Model Test Accuracy: 85.40%\n",
            "\n",
            "[Gen 195/295] Best Fitness: -0.4832, Pop Avg Fitness: -0.5094\n"
          ]
        },
        {
          "output_type": "stream",
          "name": "stderr",
          "text": [
            "\rEA Generations:  66%|██████▌   | 195/295 [52:26<26:48, 16.09s/it]"
          ]
        },
        {
          "output_type": "stream",
          "name": "stdout",
          "text": [
            "    -> Best Model Test Accuracy: 85.96%\n",
            "\n",
            "[Gen 196/295] Best Fitness: -0.5266, Pop Avg Fitness: -0.5501\n"
          ]
        },
        {
          "output_type": "stream",
          "name": "stderr",
          "text": [
            "\rEA Generations:  66%|██████▋   | 196/295 [52:43<27:03, 16.40s/it]"
          ]
        },
        {
          "output_type": "stream",
          "name": "stdout",
          "text": [
            "    -> Best Model Test Accuracy: 85.96%\n",
            "\n",
            "[Gen 197/295] Best Fitness: -0.4777, Pop Avg Fitness: -0.5016\n"
          ]
        },
        {
          "output_type": "stream",
          "name": "stderr",
          "text": [
            "\rEA Generations:  67%|██████▋   | 197/295 [52:59<26:37, 16.30s/it]"
          ]
        },
        {
          "output_type": "stream",
          "name": "stdout",
          "text": [
            "    -> Best Model Test Accuracy: 85.78%\n",
            "\n",
            "[Gen 198/295] Best Fitness: -0.5232, Pop Avg Fitness: -0.5495\n"
          ]
        },
        {
          "output_type": "stream",
          "name": "stderr",
          "text": [
            "\rEA Generations:  67%|██████▋   | 198/295 [53:15<26:12, 16.21s/it]"
          ]
        },
        {
          "output_type": "stream",
          "name": "stdout",
          "text": [
            "    -> Best Model Test Accuracy: 85.72%\n",
            "\n",
            "[Gen 199/295] Best Fitness: -0.5081, Pop Avg Fitness: -0.5406\n"
          ]
        },
        {
          "output_type": "stream",
          "name": "stderr",
          "text": [
            "\rEA Generations:  67%|██████▋   | 199/295 [53:31<26:06, 16.31s/it]"
          ]
        },
        {
          "output_type": "stream",
          "name": "stdout",
          "text": [
            "    -> Best Model Test Accuracy: 85.85%\n",
            "\n",
            "[Gen 200/295] Best Fitness: -0.4814, Pop Avg Fitness: -0.5043\n"
          ]
        },
        {
          "output_type": "stream",
          "name": "stderr",
          "text": [
            "\rEA Generations:  68%|██████▊   | 200/295 [53:48<25:43, 16.25s/it]"
          ]
        },
        {
          "output_type": "stream",
          "name": "stdout",
          "text": [
            "    -> Best Model Test Accuracy: 85.55%\n",
            "\n",
            "[Gen 201/295] Best Fitness: -0.4450, Pop Avg Fitness: -0.4668\n"
          ]
        },
        {
          "output_type": "stream",
          "name": "stderr",
          "text": [
            "\rEA Generations:  68%|██████▊   | 201/295 [54:03<25:17, 16.15s/it]"
          ]
        },
        {
          "output_type": "stream",
          "name": "stdout",
          "text": [
            "    -> Best Model Test Accuracy: 85.60%\n",
            "\n",
            "[Gen 202/295] Best Fitness: -0.4471, Pop Avg Fitness: -0.4710\n"
          ]
        },
        {
          "output_type": "stream",
          "name": "stderr",
          "text": [
            "\rEA Generations:  68%|██████▊   | 202/295 [54:20<25:18, 16.32s/it]"
          ]
        },
        {
          "output_type": "stream",
          "name": "stdout",
          "text": [
            "    -> Best Model Test Accuracy: 85.74%\n",
            "\n",
            "[Gen 203/295] Best Fitness: -0.4832, Pop Avg Fitness: -0.5050\n"
          ]
        },
        {
          "output_type": "stream",
          "name": "stderr",
          "text": [
            "\rEA Generations:  69%|██████▉   | 203/295 [54:36<24:49, 16.19s/it]"
          ]
        },
        {
          "output_type": "stream",
          "name": "stdout",
          "text": [
            "    -> Best Model Test Accuracy: 85.88%\n",
            "\n",
            "[Gen 204/295] Best Fitness: -0.4707, Pop Avg Fitness: -0.4912\n"
          ]
        },
        {
          "output_type": "stream",
          "name": "stderr",
          "text": [
            "\rEA Generations:  69%|██████▉   | 204/295 [54:52<24:22, 16.07s/it]"
          ]
        },
        {
          "output_type": "stream",
          "name": "stdout",
          "text": [
            "    -> Best Model Test Accuracy: 85.95%\n",
            "\n",
            "[Gen 205/295] Best Fitness: -0.5118, Pop Avg Fitness: -0.5322\n"
          ]
        },
        {
          "output_type": "stream",
          "name": "stderr",
          "text": [
            "\rEA Generations:  69%|██████▉   | 205/295 [55:08<23:54, 15.94s/it]"
          ]
        },
        {
          "output_type": "stream",
          "name": "stdout",
          "text": [
            "    -> Best Model Test Accuracy: 86.01%\n",
            "\n",
            "[Gen 206/295] Best Fitness: -0.4579, Pop Avg Fitness: -0.4766\n"
          ]
        },
        {
          "output_type": "stream",
          "name": "stderr",
          "text": [
            "\rEA Generations:  70%|██████▉   | 206/295 [55:24<23:56, 16.14s/it]"
          ]
        },
        {
          "output_type": "stream",
          "name": "stdout",
          "text": [
            "    -> Best Model Test Accuracy: 86.01%\n",
            "\n",
            "[Gen 207/295] Best Fitness: -0.4670, Pop Avg Fitness: -0.4861\n"
          ]
        },
        {
          "output_type": "stream",
          "name": "stderr",
          "text": [
            "\rEA Generations:  70%|███████   | 207/295 [55:40<23:30, 16.02s/it]"
          ]
        },
        {
          "output_type": "stream",
          "name": "stdout",
          "text": [
            "    -> Best Model Test Accuracy: 85.89%\n",
            "\n",
            "[Gen 208/295] Best Fitness: -0.4532, Pop Avg Fitness: -0.4828\n"
          ]
        },
        {
          "output_type": "stream",
          "name": "stderr",
          "text": [
            "\rEA Generations:  71%|███████   | 208/295 [55:56<23:12, 16.00s/it]"
          ]
        },
        {
          "output_type": "stream",
          "name": "stdout",
          "text": [
            "    -> Best Model Test Accuracy: 86.03%\n",
            "\n",
            "[Gen 209/295] Best Fitness: -0.4907, Pop Avg Fitness: -0.5114\n"
          ]
        },
        {
          "output_type": "stream",
          "name": "stderr",
          "text": [
            "\rEA Generations:  71%|███████   | 209/295 [56:13<23:17, 16.24s/it]"
          ]
        },
        {
          "output_type": "stream",
          "name": "stdout",
          "text": [
            "    -> Best Model Test Accuracy: 86.23%\n",
            "\n",
            "[Gen 210/295] Best Fitness: -0.5114, Pop Avg Fitness: -0.5309\n"
          ]
        },
        {
          "output_type": "stream",
          "name": "stderr",
          "text": [
            "\rEA Generations:  71%|███████   | 210/295 [56:28<22:47, 16.08s/it]"
          ]
        },
        {
          "output_type": "stream",
          "name": "stdout",
          "text": [
            "    -> Best Model Test Accuracy: 86.26%\n",
            "\n",
            "[Gen 211/295] Best Fitness: -0.4873, Pop Avg Fitness: -0.5119\n"
          ]
        },
        {
          "output_type": "stream",
          "name": "stderr",
          "text": [
            "\rEA Generations:  72%|███████▏  | 211/295 [56:44<22:32, 16.10s/it]"
          ]
        },
        {
          "output_type": "stream",
          "name": "stdout",
          "text": [
            "    -> Best Model Test Accuracy: 86.23%\n",
            "\n",
            "[Gen 212/295] Best Fitness: -0.4672, Pop Avg Fitness: -0.4858\n"
          ]
        },
        {
          "output_type": "stream",
          "name": "stderr",
          "text": [
            "\rEA Generations:  72%|███████▏  | 212/295 [57:01<22:24, 16.19s/it]"
          ]
        },
        {
          "output_type": "stream",
          "name": "stdout",
          "text": [
            "    -> Best Model Test Accuracy: 86.43%\n",
            "\n",
            "[Gen 213/295] Best Fitness: -0.4680, Pop Avg Fitness: -0.4899\n"
          ]
        },
        {
          "output_type": "stream",
          "name": "stderr",
          "text": [
            "\rEA Generations:  72%|███████▏  | 213/295 [57:17<21:57, 16.06s/it]"
          ]
        },
        {
          "output_type": "stream",
          "name": "stdout",
          "text": [
            "    -> Best Model Test Accuracy: 86.34%\n",
            "\n",
            "[Gen 214/295] Best Fitness: -0.4290, Pop Avg Fitness: -0.4494\n"
          ]
        },
        {
          "output_type": "stream",
          "name": "stderr",
          "text": [
            "\rEA Generations:  73%|███████▎  | 214/295 [57:32<21:34, 15.98s/it]"
          ]
        },
        {
          "output_type": "stream",
          "name": "stdout",
          "text": [
            "    -> Best Model Test Accuracy: 86.44%\n",
            "\n",
            "[Gen 215/295] Best Fitness: -0.4841, Pop Avg Fitness: -0.5082\n"
          ]
        },
        {
          "output_type": "stream",
          "name": "stderr",
          "text": [
            "\rEA Generations:  73%|███████▎  | 215/295 [57:49<21:28, 16.11s/it]"
          ]
        },
        {
          "output_type": "stream",
          "name": "stdout",
          "text": [
            "    -> Best Model Test Accuracy: 86.47%\n",
            "\n",
            "[Gen 216/295] Best Fitness: -0.4513, Pop Avg Fitness: -0.4754\n"
          ]
        },
        {
          "output_type": "stream",
          "name": "stderr",
          "text": [
            "\rEA Generations:  73%|███████▎  | 216/295 [58:05<21:06, 16.04s/it]"
          ]
        },
        {
          "output_type": "stream",
          "name": "stdout",
          "text": [
            "    -> Best Model Test Accuracy: 86.55%\n",
            "\n",
            "[Gen 217/295] Best Fitness: -0.4317, Pop Avg Fitness: -0.4543\n"
          ]
        },
        {
          "output_type": "stream",
          "name": "stderr",
          "text": [
            "\rEA Generations:  74%|███████▎  | 217/295 [58:21<20:49, 16.02s/it]"
          ]
        },
        {
          "output_type": "stream",
          "name": "stdout",
          "text": [
            "    -> Best Model Test Accuracy: 86.70%\n",
            "\n",
            "[Gen 218/295] Best Fitness: -0.4618, Pop Avg Fitness: -0.4834\n"
          ]
        },
        {
          "output_type": "stream",
          "name": "stderr",
          "text": [
            "\rEA Generations:  74%|███████▍  | 218/295 [58:37<20:43, 16.15s/it]"
          ]
        },
        {
          "output_type": "stream",
          "name": "stdout",
          "text": [
            "    -> Best Model Test Accuracy: 86.49%\n",
            "\n",
            "[Gen 219/295] Best Fitness: -0.4301, Pop Avg Fitness: -0.4592\n"
          ]
        },
        {
          "output_type": "stream",
          "name": "stderr",
          "text": [
            "\rEA Generations:  74%|███████▍  | 219/295 [58:53<20:16, 16.00s/it]"
          ]
        },
        {
          "output_type": "stream",
          "name": "stdout",
          "text": [
            "    -> Best Model Test Accuracy: 86.49%\n",
            "\n",
            "[Gen 220/295] Best Fitness: -0.4600, Pop Avg Fitness: -0.4819\n"
          ]
        },
        {
          "output_type": "stream",
          "name": "stderr",
          "text": [
            "\rEA Generations:  75%|███████▍  | 220/295 [59:09<19:53, 15.92s/it]"
          ]
        },
        {
          "output_type": "stream",
          "name": "stdout",
          "text": [
            "    -> Best Model Test Accuracy: 86.49%\n",
            "\n",
            "[Gen 221/295] Best Fitness: -0.4829, Pop Avg Fitness: -0.5066\n"
          ]
        },
        {
          "output_type": "stream",
          "name": "stderr",
          "text": [
            "\rEA Generations:  75%|███████▍  | 221/295 [59:25<19:39, 15.94s/it]"
          ]
        },
        {
          "output_type": "stream",
          "name": "stdout",
          "text": [
            "    -> Best Model Test Accuracy: 86.32%\n",
            "\n",
            "[Gen 222/295] Best Fitness: -0.4271, Pop Avg Fitness: -0.4481\n"
          ]
        },
        {
          "output_type": "stream",
          "name": "stderr",
          "text": [
            "\rEA Generations:  75%|███████▌  | 222/295 [59:40<19:23, 15.95s/it]"
          ]
        },
        {
          "output_type": "stream",
          "name": "stdout",
          "text": [
            "    -> Best Model Test Accuracy: 86.75%\n",
            "\n",
            "[Gen 223/295] Best Fitness: -0.4287, Pop Avg Fitness: -0.4477\n"
          ]
        },
        {
          "output_type": "stream",
          "name": "stderr",
          "text": [
            "\rEA Generations:  76%|███████▌  | 223/295 [59:57<19:10, 15.97s/it]"
          ]
        },
        {
          "output_type": "stream",
          "name": "stdout",
          "text": [
            "    -> Best Model Test Accuracy: 86.72%\n",
            "\n",
            "[Gen 224/295] Best Fitness: -0.4627, Pop Avg Fitness: -0.4933\n"
          ]
        },
        {
          "output_type": "stream",
          "name": "stderr",
          "text": [
            "\rEA Generations:  76%|███████▌  | 224/295 [1:00:12<18:49, 15.91s/it]"
          ]
        },
        {
          "output_type": "stream",
          "name": "stdout",
          "text": [
            "    -> Best Model Test Accuracy: 86.72%\n",
            "\n",
            "[Gen 225/295] Best Fitness: -0.4613, Pop Avg Fitness: -0.4815\n"
          ]
        },
        {
          "output_type": "stream",
          "name": "stderr",
          "text": [
            "\rEA Generations:  76%|███████▋  | 225/295 [1:00:28<18:39, 16.00s/it]"
          ]
        },
        {
          "output_type": "stream",
          "name": "stdout",
          "text": [
            "    -> Best Model Test Accuracy: 86.96%\n",
            "\n",
            "[Gen 226/295] Best Fitness: -0.4987, Pop Avg Fitness: -0.5205\n"
          ]
        },
        {
          "output_type": "stream",
          "name": "stderr",
          "text": [
            "\rEA Generations:  77%|███████▋  | 226/295 [1:00:44<18:17, 15.91s/it]"
          ]
        },
        {
          "output_type": "stream",
          "name": "stdout",
          "text": [
            "    -> Best Model Test Accuracy: 86.93%\n",
            "\n",
            "[Gen 227/295] Best Fitness: -0.4567, Pop Avg Fitness: -0.4762\n"
          ]
        },
        {
          "output_type": "stream",
          "name": "stderr",
          "text": [
            "\rEA Generations:  77%|███████▋  | 227/295 [1:01:00<17:56, 15.84s/it]"
          ]
        },
        {
          "output_type": "stream",
          "name": "stdout",
          "text": [
            "    -> Best Model Test Accuracy: 86.95%\n",
            "\n",
            "[Gen 228/295] Best Fitness: -0.4309, Pop Avg Fitness: -0.4501\n"
          ]
        },
        {
          "output_type": "stream",
          "name": "stderr",
          "text": [
            "\rEA Generations:  77%|███████▋  | 228/295 [1:01:16<17:52, 16.01s/it]"
          ]
        },
        {
          "output_type": "stream",
          "name": "stdout",
          "text": [
            "    -> Best Model Test Accuracy: 86.62%\n",
            "\n",
            "[Gen 229/295] Best Fitness: -0.4592, Pop Avg Fitness: -0.4778\n"
          ]
        },
        {
          "output_type": "stream",
          "name": "stderr",
          "text": [
            "\rEA Generations:  78%|███████▊  | 229/295 [1:01:32<17:29, 15.91s/it]"
          ]
        },
        {
          "output_type": "stream",
          "name": "stdout",
          "text": [
            "    -> Best Model Test Accuracy: 86.75%\n",
            "\n",
            "[Gen 230/295] Best Fitness: -0.4148, Pop Avg Fitness: -0.4403\n"
          ]
        },
        {
          "output_type": "stream",
          "name": "stderr",
          "text": [
            "\rEA Generations:  78%|███████▊  | 230/295 [1:01:48<17:09, 15.84s/it]"
          ]
        },
        {
          "output_type": "stream",
          "name": "stdout",
          "text": [
            "    -> Best Model Test Accuracy: 87.12%\n",
            "\n",
            "[Gen 231/295] Best Fitness: -0.4805, Pop Avg Fitness: -0.5053\n"
          ]
        },
        {
          "output_type": "stream",
          "name": "stderr",
          "text": [
            "\rEA Generations:  78%|███████▊  | 231/295 [1:02:04<17:00, 15.95s/it]"
          ]
        },
        {
          "output_type": "stream",
          "name": "stdout",
          "text": [
            "    -> Best Model Test Accuracy: 87.24%\n",
            "\n",
            "[Gen 232/295] Best Fitness: -0.4084, Pop Avg Fitness: -0.4268\n"
          ]
        },
        {
          "output_type": "stream",
          "name": "stderr",
          "text": [
            "\rEA Generations:  79%|███████▊  | 232/295 [1:02:20<16:47, 15.99s/it]"
          ]
        },
        {
          "output_type": "stream",
          "name": "stdout",
          "text": [
            "    -> Best Model Test Accuracy: 87.32%\n",
            "\n",
            "[Gen 233/295] Best Fitness: -0.4436, Pop Avg Fitness: -0.4664\n"
          ]
        },
        {
          "output_type": "stream",
          "name": "stderr",
          "text": [
            "\rEA Generations:  79%|███████▉  | 233/295 [1:02:36<16:24, 15.87s/it]"
          ]
        },
        {
          "output_type": "stream",
          "name": "stdout",
          "text": [
            "    -> Best Model Test Accuracy: 87.20%\n",
            "\n",
            "[Gen 234/295] Best Fitness: -0.4589, Pop Avg Fitness: -0.4750\n"
          ]
        },
        {
          "output_type": "stream",
          "name": "stderr",
          "text": [
            "\rEA Generations:  79%|███████▉  | 234/295 [1:02:51<16:08, 15.88s/it]"
          ]
        },
        {
          "output_type": "stream",
          "name": "stdout",
          "text": [
            "    -> Best Model Test Accuracy: 87.38%\n",
            "\n",
            "[Gen 235/295] Best Fitness: -0.4761, Pop Avg Fitness: -0.5032\n"
          ]
        },
        {
          "output_type": "stream",
          "name": "stderr",
          "text": [
            "\rEA Generations:  80%|███████▉  | 235/295 [1:03:08<15:58, 15.98s/it]"
          ]
        },
        {
          "output_type": "stream",
          "name": "stdout",
          "text": [
            "    -> Best Model Test Accuracy: 87.40%\n",
            "\n",
            "[Gen 236/295] Best Fitness: -0.4978, Pop Avg Fitness: -0.5215\n"
          ]
        },
        {
          "output_type": "stream",
          "name": "stderr",
          "text": [
            "\rEA Generations:  80%|████████  | 236/295 [1:03:23<15:37, 15.89s/it]"
          ]
        },
        {
          "output_type": "stream",
          "name": "stdout",
          "text": [
            "    -> Best Model Test Accuracy: 87.23%\n",
            "\n",
            "[Gen 237/295] Best Fitness: -0.4571, Pop Avg Fitness: -0.4758\n"
          ]
        },
        {
          "output_type": "stream",
          "name": "stderr",
          "text": [
            "\rEA Generations:  80%|████████  | 237/295 [1:03:39<15:15, 15.78s/it]"
          ]
        },
        {
          "output_type": "stream",
          "name": "stdout",
          "text": [
            "    -> Best Model Test Accuracy: 87.26%\n",
            "\n",
            "[Gen 238/295] Best Fitness: -0.4247, Pop Avg Fitness: -0.4460\n"
          ]
        },
        {
          "output_type": "stream",
          "name": "stderr",
          "text": [
            "\rEA Generations:  81%|████████  | 238/295 [1:03:55<15:14, 16.05s/it]"
          ]
        },
        {
          "output_type": "stream",
          "name": "stdout",
          "text": [
            "    -> Best Model Test Accuracy: 87.52%\n",
            "\n",
            "[Gen 239/295] Best Fitness: -0.4610, Pop Avg Fitness: -0.4781\n"
          ]
        },
        {
          "output_type": "stream",
          "name": "stderr",
          "text": [
            "\rEA Generations:  81%|████████  | 239/295 [1:04:11<14:56, 16.00s/it]"
          ]
        },
        {
          "output_type": "stream",
          "name": "stdout",
          "text": [
            "    -> Best Model Test Accuracy: 87.43%\n",
            "\n",
            "[Gen 240/295] Best Fitness: -0.4151, Pop Avg Fitness: -0.4350\n"
          ]
        },
        {
          "output_type": "stream",
          "name": "stderr",
          "text": [
            "\rEA Generations:  81%|████████▏ | 240/295 [1:04:28<14:42, 16.05s/it]"
          ]
        },
        {
          "output_type": "stream",
          "name": "stdout",
          "text": [
            "    -> Best Model Test Accuracy: 87.25%\n",
            "\n",
            "[Gen 241/295] Best Fitness: -0.4548, Pop Avg Fitness: -0.4723\n"
          ]
        },
        {
          "output_type": "stream",
          "name": "stderr",
          "text": [
            "\rEA Generations:  82%|████████▏ | 241/295 [1:04:44<14:35, 16.21s/it]"
          ]
        },
        {
          "output_type": "stream",
          "name": "stdout",
          "text": [
            "    -> Best Model Test Accuracy: 87.61%\n",
            "\n",
            "[Gen 242/295] Best Fitness: -0.4415, Pop Avg Fitness: -0.4572\n"
          ]
        },
        {
          "output_type": "stream",
          "name": "stderr",
          "text": [
            "\rEA Generations:  82%|████████▏ | 242/295 [1:05:00<14:14, 16.12s/it]"
          ]
        },
        {
          "output_type": "stream",
          "name": "stdout",
          "text": [
            "    -> Best Model Test Accuracy: 87.41%\n",
            "\n",
            "[Gen 243/295] Best Fitness: -0.4665, Pop Avg Fitness: -0.4865\n"
          ]
        },
        {
          "output_type": "stream",
          "name": "stderr",
          "text": [
            "\rEA Generations:  82%|████████▏ | 243/295 [1:05:16<13:51, 16.00s/it]"
          ]
        },
        {
          "output_type": "stream",
          "name": "stdout",
          "text": [
            "    -> Best Model Test Accuracy: 87.42%\n",
            "\n",
            "[Gen 244/295] Best Fitness: -0.4131, Pop Avg Fitness: -0.4310\n"
          ]
        },
        {
          "output_type": "stream",
          "name": "stderr",
          "text": [
            "\rEA Generations:  83%|████████▎ | 244/295 [1:05:33<13:49, 16.26s/it]"
          ]
        },
        {
          "output_type": "stream",
          "name": "stdout",
          "text": [
            "    -> Best Model Test Accuracy: 87.41%\n",
            "\n",
            "[Gen 245/295] Best Fitness: -0.4656, Pop Avg Fitness: -0.4842\n"
          ]
        },
        {
          "output_type": "stream",
          "name": "stderr",
          "text": [
            "\rEA Generations:  83%|████████▎ | 245/295 [1:05:49<13:28, 16.18s/it]"
          ]
        },
        {
          "output_type": "stream",
          "name": "stdout",
          "text": [
            "    -> Best Model Test Accuracy: 87.51%\n",
            "\n",
            "[Gen 246/295] Best Fitness: -0.4444, Pop Avg Fitness: -0.4639\n"
          ]
        },
        {
          "output_type": "stream",
          "name": "stderr",
          "text": [
            "\rEA Generations:  83%|████████▎ | 246/295 [1:06:05<13:09, 16.11s/it]"
          ]
        },
        {
          "output_type": "stream",
          "name": "stdout",
          "text": [
            "    -> Best Model Test Accuracy: 87.45%\n",
            "\n",
            "[Gen 247/295] Best Fitness: -0.4817, Pop Avg Fitness: -0.5005\n"
          ]
        },
        {
          "output_type": "stream",
          "name": "stderr",
          "text": [
            "\rEA Generations:  84%|████████▎ | 247/295 [1:06:21<13:00, 16.26s/it]"
          ]
        },
        {
          "output_type": "stream",
          "name": "stdout",
          "text": [
            "    -> Best Model Test Accuracy: 87.48%\n",
            "\n",
            "[Gen 248/295] Best Fitness: -0.4585, Pop Avg Fitness: -0.4788\n"
          ]
        },
        {
          "output_type": "stream",
          "name": "stderr",
          "text": [
            "\rEA Generations:  84%|████████▍ | 248/295 [1:06:37<12:38, 16.14s/it]"
          ]
        },
        {
          "output_type": "stream",
          "name": "stdout",
          "text": [
            "    -> Best Model Test Accuracy: 87.57%\n",
            "\n",
            "[Gen 249/295] Best Fitness: -0.4106, Pop Avg Fitness: -0.4282\n"
          ]
        },
        {
          "output_type": "stream",
          "name": "stderr",
          "text": [
            "\rEA Generations:  84%|████████▍ | 249/295 [1:06:53<12:18, 16.07s/it]"
          ]
        },
        {
          "output_type": "stream",
          "name": "stdout",
          "text": [
            "    -> Best Model Test Accuracy: 87.63%\n",
            "\n",
            "[Gen 250/295] Best Fitness: -0.4550, Pop Avg Fitness: -0.4775\n"
          ]
        },
        {
          "output_type": "stream",
          "name": "stderr",
          "text": [
            "\rEA Generations:  85%|████████▍ | 250/295 [1:07:10<12:11, 16.25s/it]"
          ]
        },
        {
          "output_type": "stream",
          "name": "stdout",
          "text": [
            "    -> Best Model Test Accuracy: 87.64%\n",
            "\n",
            "[Gen 251/295] Best Fitness: -0.4647, Pop Avg Fitness: -0.4847\n"
          ]
        },
        {
          "output_type": "stream",
          "name": "stderr",
          "text": [
            "\rEA Generations:  85%|████████▌ | 251/295 [1:07:25<11:48, 16.11s/it]"
          ]
        },
        {
          "output_type": "stream",
          "name": "stdout",
          "text": [
            "    -> Best Model Test Accuracy: 87.36%\n",
            "\n",
            "[Gen 252/295] Best Fitness: -0.4406, Pop Avg Fitness: -0.4566\n"
          ]
        },
        {
          "output_type": "stream",
          "name": "stderr",
          "text": [
            "\rEA Generations:  85%|████████▌ | 252/295 [1:07:41<11:27, 16.00s/it]"
          ]
        },
        {
          "output_type": "stream",
          "name": "stdout",
          "text": [
            "    -> Best Model Test Accuracy: 87.65%\n",
            "\n",
            "[Gen 253/295] Best Fitness: -0.4222, Pop Avg Fitness: -0.4396\n"
          ]
        },
        {
          "output_type": "stream",
          "name": "stderr",
          "text": [
            "\rEA Generations:  86%|████████▌ | 253/295 [1:07:58<11:22, 16.25s/it]"
          ]
        },
        {
          "output_type": "stream",
          "name": "stdout",
          "text": [
            "    -> Best Model Test Accuracy: 87.60%\n",
            "\n",
            "[Gen 254/295] Best Fitness: -0.4246, Pop Avg Fitness: -0.4446\n"
          ]
        },
        {
          "output_type": "stream",
          "name": "stderr",
          "text": [
            "\rEA Generations:  86%|████████▌ | 254/295 [1:08:14<11:00, 16.10s/it]"
          ]
        },
        {
          "output_type": "stream",
          "name": "stdout",
          "text": [
            "    -> Best Model Test Accuracy: 87.69%\n",
            "\n",
            "[Gen 255/295] Best Fitness: -0.4717, Pop Avg Fitness: -0.4938\n"
          ]
        },
        {
          "output_type": "stream",
          "name": "stderr",
          "text": [
            "\rEA Generations:  86%|████████▋ | 255/295 [1:08:30<10:42, 16.07s/it]"
          ]
        },
        {
          "output_type": "stream",
          "name": "stdout",
          "text": [
            "    -> Best Model Test Accuracy: 87.47%\n",
            "\n",
            "[Gen 256/295] Best Fitness: -0.4161, Pop Avg Fitness: -0.4383\n"
          ]
        },
        {
          "output_type": "stream",
          "name": "stderr",
          "text": [
            "\rEA Generations:  87%|████████▋ | 256/295 [1:08:46<10:30, 16.16s/it]"
          ]
        },
        {
          "output_type": "stream",
          "name": "stdout",
          "text": [
            "    -> Best Model Test Accuracy: 87.82%\n",
            "\n",
            "[Gen 257/295] Best Fitness: -0.4598, Pop Avg Fitness: -0.4818\n"
          ]
        },
        {
          "output_type": "stream",
          "name": "stderr",
          "text": [
            "\rEA Generations:  87%|████████▋ | 257/295 [1:09:02<10:07, 16.00s/it]"
          ]
        },
        {
          "output_type": "stream",
          "name": "stdout",
          "text": [
            "    -> Best Model Test Accuracy: 87.71%\n",
            "\n",
            "[Gen 258/295] Best Fitness: -0.4460, Pop Avg Fitness: -0.4673\n"
          ]
        },
        {
          "output_type": "stream",
          "name": "stderr",
          "text": [
            "\rEA Generations:  87%|████████▋ | 258/295 [1:09:17<09:47, 15.89s/it]"
          ]
        },
        {
          "output_type": "stream",
          "name": "stdout",
          "text": [
            "    -> Best Model Test Accuracy: 87.59%\n",
            "\n",
            "[Gen 259/295] Best Fitness: -0.4151, Pop Avg Fitness: -0.4356\n"
          ]
        },
        {
          "output_type": "stream",
          "name": "stderr",
          "text": [
            "\rEA Generations:  88%|████████▊ | 259/295 [1:09:34<09:36, 16.01s/it]"
          ]
        },
        {
          "output_type": "stream",
          "name": "stdout",
          "text": [
            "    -> Best Model Test Accuracy: 87.82%\n",
            "\n",
            "[Gen 260/295] Best Fitness: -0.3869, Pop Avg Fitness: -0.4068\n"
          ]
        },
        {
          "output_type": "stream",
          "name": "stderr",
          "text": [
            "\rEA Generations:  88%|████████▊ | 260/295 [1:09:50<09:21, 16.03s/it]"
          ]
        },
        {
          "output_type": "stream",
          "name": "stdout",
          "text": [
            "    -> Best Model Test Accuracy: 87.64%\n",
            "\n",
            "[Gen 261/295] Best Fitness: -0.4032, Pop Avg Fitness: -0.4242\n"
          ]
        },
        {
          "output_type": "stream",
          "name": "stderr",
          "text": [
            "\rEA Generations:  88%|████████▊ | 261/295 [1:10:05<09:00, 15.91s/it]"
          ]
        },
        {
          "output_type": "stream",
          "name": "stdout",
          "text": [
            "    -> Best Model Test Accuracy: 87.54%\n",
            "\n",
            "[Gen 262/295] Best Fitness: -0.4244, Pop Avg Fitness: -0.4469\n"
          ]
        },
        {
          "output_type": "stream",
          "name": "stderr",
          "text": [
            "\rEA Generations:  89%|████████▉ | 262/295 [1:10:21<08:41, 15.81s/it]"
          ]
        },
        {
          "output_type": "stream",
          "name": "stdout",
          "text": [
            "    -> Best Model Test Accuracy: 87.93%\n",
            "\n",
            "[Gen 263/295] Best Fitness: -0.4060, Pop Avg Fitness: -0.4258\n"
          ]
        },
        {
          "output_type": "stream",
          "name": "stderr",
          "text": [
            "\rEA Generations:  89%|████████▉ | 263/295 [1:10:37<08:31, 15.98s/it]"
          ]
        },
        {
          "output_type": "stream",
          "name": "stdout",
          "text": [
            "    -> Best Model Test Accuracy: 87.76%\n",
            "\n",
            "[Gen 264/295] Best Fitness: -0.4423, Pop Avg Fitness: -0.4593\n"
          ]
        },
        {
          "output_type": "stream",
          "name": "stderr",
          "text": [
            "\rEA Generations:  89%|████████▉ | 264/295 [1:10:53<08:12, 15.90s/it]"
          ]
        },
        {
          "output_type": "stream",
          "name": "stdout",
          "text": [
            "    -> Best Model Test Accuracy: 87.80%\n",
            "\n",
            "[Gen 265/295] Best Fitness: -0.4062, Pop Avg Fitness: -0.4260\n"
          ]
        },
        {
          "output_type": "stream",
          "name": "stderr",
          "text": [
            "\rEA Generations:  90%|████████▉ | 265/295 [1:11:09<07:58, 15.93s/it]"
          ]
        },
        {
          "output_type": "stream",
          "name": "stdout",
          "text": [
            "    -> Best Model Test Accuracy: 87.84%\n",
            "\n",
            "[Gen 266/295] Best Fitness: -0.4100, Pop Avg Fitness: -0.4299\n"
          ]
        },
        {
          "output_type": "stream",
          "name": "stderr",
          "text": [
            "\rEA Generations:  90%|█████████ | 266/295 [1:11:26<07:48, 16.14s/it]"
          ]
        },
        {
          "output_type": "stream",
          "name": "stdout",
          "text": [
            "    -> Best Model Test Accuracy: 87.81%\n",
            "\n",
            "[Gen 267/295] Best Fitness: -0.3973, Pop Avg Fitness: -0.4207\n"
          ]
        },
        {
          "output_type": "stream",
          "name": "stderr",
          "text": [
            "\rEA Generations:  91%|█████████ | 267/295 [1:11:41<07:27, 15.97s/it]"
          ]
        },
        {
          "output_type": "stream",
          "name": "stdout",
          "text": [
            "    -> Best Model Test Accuracy: 87.96%\n",
            "\n",
            "[Gen 268/295] Best Fitness: -0.4398, Pop Avg Fitness: -0.4680\n"
          ]
        },
        {
          "output_type": "stream",
          "name": "stderr",
          "text": [
            "\rEA Generations:  91%|█████████ | 268/295 [1:11:57<07:09, 15.91s/it]"
          ]
        },
        {
          "output_type": "stream",
          "name": "stdout",
          "text": [
            "    -> Best Model Test Accuracy: 87.93%\n",
            "\n",
            "[Gen 269/295] Best Fitness: -0.4485, Pop Avg Fitness: -0.4677\n"
          ]
        },
        {
          "output_type": "stream",
          "name": "stderr",
          "text": [
            "\rEA Generations:  91%|█████████ | 269/295 [1:12:13<06:56, 16.02s/it]"
          ]
        },
        {
          "output_type": "stream",
          "name": "stdout",
          "text": [
            "    -> Best Model Test Accuracy: 88.25%\n",
            "\n",
            "[Gen 270/295] Best Fitness: -0.4304, Pop Avg Fitness: -0.4494\n"
          ]
        },
        {
          "output_type": "stream",
          "name": "stderr",
          "text": [
            "\rEA Generations:  92%|█████████▏| 270/295 [1:12:29<06:38, 15.94s/it]"
          ]
        },
        {
          "output_type": "stream",
          "name": "stdout",
          "text": [
            "    -> Best Model Test Accuracy: 87.76%\n",
            "\n",
            "[Gen 271/295] Best Fitness: -0.4070, Pop Avg Fitness: -0.4304\n"
          ]
        },
        {
          "output_type": "stream",
          "name": "stderr",
          "text": [
            "\rEA Generations:  92%|█████████▏| 271/295 [1:12:45<06:19, 15.83s/it]"
          ]
        },
        {
          "output_type": "stream",
          "name": "stdout",
          "text": [
            "    -> Best Model Test Accuracy: 87.95%\n",
            "\n",
            "[Gen 272/295] Best Fitness: -0.4162, Pop Avg Fitness: -0.4348\n"
          ]
        },
        {
          "output_type": "stream",
          "name": "stderr",
          "text": [
            "\rEA Generations:  92%|█████████▏| 272/295 [1:13:00<06:03, 15.82s/it]"
          ]
        },
        {
          "output_type": "stream",
          "name": "stdout",
          "text": [
            "    -> Best Model Test Accuracy: 87.96%\n",
            "\n",
            "[Gen 273/295] Best Fitness: -0.3745, Pop Avg Fitness: -0.3951\n"
          ]
        },
        {
          "output_type": "stream",
          "name": "stderr",
          "text": [
            "\rEA Generations:  93%|█████████▎| 273/295 [1:13:17<05:50, 15.93s/it]"
          ]
        },
        {
          "output_type": "stream",
          "name": "stdout",
          "text": [
            "    -> Best Model Test Accuracy: 87.95%\n",
            "\n",
            "[Gen 274/295] Best Fitness: -0.4385, Pop Avg Fitness: -0.4547\n"
          ]
        },
        {
          "output_type": "stream",
          "name": "stderr",
          "text": [
            "\rEA Generations:  93%|█████████▎| 274/295 [1:13:33<05:34, 15.94s/it]"
          ]
        },
        {
          "output_type": "stream",
          "name": "stdout",
          "text": [
            "    -> Best Model Test Accuracy: 87.89%\n",
            "\n",
            "[Gen 275/295] Best Fitness: -0.4018, Pop Avg Fitness: -0.4187\n"
          ]
        },
        {
          "output_type": "stream",
          "name": "stderr",
          "text": [
            "\rEA Generations:  93%|█████████▎| 275/295 [1:13:48<05:17, 15.88s/it]"
          ]
        },
        {
          "output_type": "stream",
          "name": "stdout",
          "text": [
            "    -> Best Model Test Accuracy: 87.99%\n",
            "\n",
            "[Gen 276/295] Best Fitness: -0.3803, Pop Avg Fitness: -0.3947\n"
          ]
        },
        {
          "output_type": "stream",
          "name": "stderr",
          "text": [
            "\rEA Generations:  94%|█████████▎| 276/295 [1:14:05<05:04, 16.01s/it]"
          ]
        },
        {
          "output_type": "stream",
          "name": "stdout",
          "text": [
            "    -> Best Model Test Accuracy: 88.08%\n",
            "\n",
            "[Gen 277/295] Best Fitness: -0.4040, Pop Avg Fitness: -0.4416\n"
          ]
        },
        {
          "output_type": "stream",
          "name": "stderr",
          "text": [
            "\rEA Generations:  94%|█████████▍| 277/295 [1:14:20<04:46, 15.91s/it]"
          ]
        },
        {
          "output_type": "stream",
          "name": "stdout",
          "text": [
            "    -> Best Model Test Accuracy: 88.16%\n",
            "\n",
            "[Gen 278/295] Best Fitness: -0.3778, Pop Avg Fitness: -0.3970\n"
          ]
        },
        {
          "output_type": "stream",
          "name": "stderr",
          "text": [
            "\rEA Generations:  94%|█████████▍| 278/295 [1:14:36<04:28, 15.78s/it]"
          ]
        },
        {
          "output_type": "stream",
          "name": "stdout",
          "text": [
            "    -> Best Model Test Accuracy: 88.09%\n",
            "\n",
            "[Gen 279/295] Best Fitness: -0.4032, Pop Avg Fitness: -0.4227\n"
          ]
        },
        {
          "output_type": "stream",
          "name": "stderr",
          "text": [
            "\rEA Generations:  95%|█████████▍| 279/295 [1:14:52<04:15, 15.96s/it]"
          ]
        },
        {
          "output_type": "stream",
          "name": "stdout",
          "text": [
            "    -> Best Model Test Accuracy: 88.09%\n",
            "\n",
            "[Gen 280/295] Best Fitness: -0.4329, Pop Avg Fitness: -0.4547\n"
          ]
        },
        {
          "output_type": "stream",
          "name": "stderr",
          "text": [
            "\rEA Generations:  95%|█████████▍| 280/295 [1:15:08<03:59, 15.94s/it]"
          ]
        },
        {
          "output_type": "stream",
          "name": "stdout",
          "text": [
            "    -> Best Model Test Accuracy: 88.17%\n",
            "\n",
            "[Gen 281/295] Best Fitness: -0.3684, Pop Avg Fitness: -0.3906\n"
          ]
        },
        {
          "output_type": "stream",
          "name": "stderr",
          "text": [
            "\rEA Generations:  95%|█████████▌| 281/295 [1:15:24<03:42, 15.86s/it]"
          ]
        },
        {
          "output_type": "stream",
          "name": "stdout",
          "text": [
            "    -> Best Model Test Accuracy: 88.26%\n",
            "\n",
            "[Gen 282/295] Best Fitness: -0.3640, Pop Avg Fitness: -0.3821\n"
          ]
        },
        {
          "output_type": "stream",
          "name": "stderr",
          "text": [
            "\rEA Generations:  96%|█████████▌| 282/295 [1:15:40<03:27, 15.94s/it]"
          ]
        },
        {
          "output_type": "stream",
          "name": "stdout",
          "text": [
            "    -> Best Model Test Accuracy: 88.14%\n",
            "\n",
            "[Gen 283/295] Best Fitness: -0.4138, Pop Avg Fitness: -0.4316\n"
          ]
        },
        {
          "output_type": "stream",
          "name": "stderr",
          "text": [
            "\rEA Generations:  96%|█████████▌| 283/295 [1:15:56<03:10, 15.91s/it]"
          ]
        },
        {
          "output_type": "stream",
          "name": "stdout",
          "text": [
            "    -> Best Model Test Accuracy: 87.93%\n",
            "\n",
            "[Gen 284/295] Best Fitness: -0.4093, Pop Avg Fitness: -0.4255\n"
          ]
        },
        {
          "output_type": "stream",
          "name": "stderr",
          "text": [
            "\rEA Generations:  96%|█████████▋| 284/295 [1:16:11<02:54, 15.86s/it]"
          ]
        },
        {
          "output_type": "stream",
          "name": "stdout",
          "text": [
            "    -> Best Model Test Accuracy: 88.16%\n",
            "\n",
            "[Gen 285/295] Best Fitness: -0.4472, Pop Avg Fitness: -0.4643\n"
          ]
        },
        {
          "output_type": "stream",
          "name": "stderr",
          "text": [
            "\rEA Generations:  97%|█████████▋| 285/295 [1:16:27<02:37, 15.76s/it]"
          ]
        },
        {
          "output_type": "stream",
          "name": "stdout",
          "text": [
            "    -> Best Model Test Accuracy: 87.95%\n",
            "\n",
            "[Gen 286/295] Best Fitness: -0.4089, Pop Avg Fitness: -0.4291\n"
          ]
        },
        {
          "output_type": "stream",
          "name": "stderr",
          "text": [
            "\rEA Generations:  97%|█████████▋| 286/295 [1:16:44<02:24, 16.01s/it]"
          ]
        },
        {
          "output_type": "stream",
          "name": "stdout",
          "text": [
            "    -> Best Model Test Accuracy: 87.97%\n",
            "\n",
            "[Gen 287/295] Best Fitness: -0.3904, Pop Avg Fitness: -0.4107\n"
          ]
        },
        {
          "output_type": "stream",
          "name": "stderr",
          "text": [
            "\rEA Generations:  97%|█████████▋| 287/295 [1:16:59<02:07, 15.89s/it]"
          ]
        },
        {
          "output_type": "stream",
          "name": "stdout",
          "text": [
            "    -> Best Model Test Accuracy: 88.38%\n",
            "\n",
            "[Gen 288/295] Best Fitness: -0.4075, Pop Avg Fitness: -0.4217\n"
          ]
        },
        {
          "output_type": "stream",
          "name": "stderr",
          "text": [
            "\rEA Generations:  98%|█████████▊| 288/295 [1:17:15<01:50, 15.85s/it]"
          ]
        },
        {
          "output_type": "stream",
          "name": "stdout",
          "text": [
            "    -> Best Model Test Accuracy: 88.16%\n",
            "\n",
            "[Gen 289/295] Best Fitness: -0.3725, Pop Avg Fitness: -0.3888\n"
          ]
        },
        {
          "output_type": "stream",
          "name": "stderr",
          "text": [
            "\rEA Generations:  98%|█████████▊| 289/295 [1:17:31<01:36, 16.03s/it]"
          ]
        },
        {
          "output_type": "stream",
          "name": "stdout",
          "text": [
            "    -> Best Model Test Accuracy: 88.09%\n",
            "\n",
            "[Gen 290/295] Best Fitness: -0.4317, Pop Avg Fitness: -0.4522\n"
          ]
        },
        {
          "output_type": "stream",
          "name": "stderr",
          "text": [
            "\rEA Generations:  98%|█████████▊| 290/295 [1:17:47<01:19, 15.95s/it]"
          ]
        },
        {
          "output_type": "stream",
          "name": "stdout",
          "text": [
            "    -> Best Model Test Accuracy: 88.32%\n",
            "\n",
            "[Gen 291/295] Best Fitness: -0.3665, Pop Avg Fitness: -0.3800\n"
          ]
        },
        {
          "output_type": "stream",
          "name": "stderr",
          "text": [
            "\rEA Generations:  99%|█████████▊| 291/295 [1:18:03<01:03, 15.85s/it]"
          ]
        },
        {
          "output_type": "stream",
          "name": "stdout",
          "text": [
            "    -> Best Model Test Accuracy: 88.50%\n",
            "\n",
            "[Gen 292/295] Best Fitness: -0.3908, Pop Avg Fitness: -0.4204\n"
          ]
        },
        {
          "output_type": "stream",
          "name": "stderr",
          "text": [
            "\rEA Generations:  99%|█████████▉| 292/295 [1:18:19<00:48, 16.01s/it]"
          ]
        },
        {
          "output_type": "stream",
          "name": "stdout",
          "text": [
            "    -> Best Model Test Accuracy: 88.43%\n",
            "\n",
            "[Gen 293/295] Best Fitness: -0.4243, Pop Avg Fitness: -0.4409\n"
          ]
        },
        {
          "output_type": "stream",
          "name": "stderr",
          "text": [
            "\rEA Generations:  99%|█████████▉| 293/295 [1:18:35<00:31, 15.90s/it]"
          ]
        },
        {
          "output_type": "stream",
          "name": "stdout",
          "text": [
            "    -> Best Model Test Accuracy: 88.37%\n",
            "\n",
            "[Gen 294/295] Best Fitness: -0.4304, Pop Avg Fitness: -0.4483\n"
          ]
        },
        {
          "output_type": "stream",
          "name": "stderr",
          "text": [
            "\rEA Generations: 100%|█████████▉| 294/295 [1:18:51<00:15, 15.87s/it]"
          ]
        },
        {
          "output_type": "stream",
          "name": "stdout",
          "text": [
            "    -> Best Model Test Accuracy: 88.11%\n",
            "\n",
            "[Gen 295/295] Best Fitness: -0.4539, Pop Avg Fitness: -0.4728\n"
          ]
        },
        {
          "output_type": "stream",
          "name": "stderr",
          "text": [
            "EA Generations: 100%|██████████| 295/295 [1:19:07<00:00, 16.09s/it]\n"
          ]
        },
        {
          "output_type": "stream",
          "name": "stdout",
          "text": [
            "    -> Best Model Test Accuracy: 88.39%\n",
            "\n",
            "--- Training Baseline Model with Adam Optimizer ---\n"
          ]
        },
        {
          "output_type": "stream",
          "name": "stderr",
          "text": [
            "Adam Epoch 1/5: 100%|██████████| 59/59 [02:00<00:00,  2.04s/it]\n",
            "Adam Epoch 2/5: 100%|██████████| 59/59 [02:00<00:00,  2.04s/it]\n",
            "Adam Epoch 3/5: 100%|██████████| 59/59 [02:00<00:00,  2.04s/it]\n",
            "Adam Epoch 4/5: 100%|██████████| 59/59 [01:59<00:00,  2.03s/it]\n",
            "Adam Epoch 5/5: 100%|██████████| 59/59 [01:59<00:00,  2.03s/it]\n"
          ]
        },
        {
          "output_type": "stream",
          "name": "stdout",
          "text": [
            "\n",
            "--- Final Results ---\n",
            "Final Adam Model Accuracy: 94.39%\n",
            "Final Best EA Model Accuracy: 88.39%\n",
            "\n",
            "Performance plot saved to 'performance_comparison.png'\n"
          ]
        },
        {
          "output_type": "display_data",
          "data": {
            "text/plain": [
              "<Figure size 1200x700 with 1 Axes>"
            ],
            "image/png": "[encoded data removed]"
          },
          "metadata": {}
        }
      ],
      "execution_count": 12,
      "metadata": {
        "colab": {
          "base_uri": "https://localhost:8080/",
          "height": 1000
        },
        "id": "yw4r6x2aSNdb",
        "outputId": "6a4be55a-4ab1-4a75-9a03-d6780f3a9ab6"
      }
    }
  ],
  "metadata": {
    "colab": {
      "provenance": [],
      "gpuType": "T4",
      "include_colab_link": true
    },
    "kernelspec": {
      "display_name": "Python 3",
      "name": "python3"
    },
    "accelerator": "GPU"
  },
  "nbformat": 4,
  "nbformat_minor": 0
}